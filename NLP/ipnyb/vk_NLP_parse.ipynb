{
  "nbformat": 4,
  "nbformat_minor": 0,
  "metadata": {
    "colab": {
      "name": "vk_NLP_parse.ipynb",
      "provenance": [],
      "collapsed_sections": [
        "Kzy0LBN5MDBN"
      ]
    },
    "kernelspec": {
      "name": "python3",
      "display_name": "Python 3"
    },
    "language_info": {
      "name": "python"
    }
  },
  "cells": [
    {
      "cell_type": "markdown",
      "source": [
        "### Parsing\n"
      ],
      "metadata": {
        "id": "rm3KB8TR4O2U"
      }
    },
    {
      "cell_type": "code",
      "execution_count": null,
      "metadata": {
        "colab": {
          "base_uri": "https://localhost:8080/"
        },
        "id": "ZyXMT3TFq7js",
        "outputId": "52872f21-0fb9-4112-90af-04fffd7a8c20"
      },
      "outputs": [
        {
          "output_type": "stream",
          "name": "stdout",
          "text": [
            "Requirement already satisfied: vk_requests in /usr/local/lib/python3.7/dist-packages (1.2.1)\n",
            "Requirement already satisfied: beautifulsoup4>=4.4.1 in /usr/local/lib/python3.7/dist-packages (from vk_requests) (4.6.3)\n",
            "Requirement already satisfied: requests>=2.8.1 in /usr/local/lib/python3.7/dist-packages (from vk_requests) (2.23.0)\n",
            "Requirement already satisfied: six>=1.13.0 in /usr/local/lib/python3.7/dist-packages (from vk_requests) (1.15.0)\n",
            "Requirement already satisfied: chardet<4,>=3.0.2 in /usr/local/lib/python3.7/dist-packages (from requests>=2.8.1->vk_requests) (3.0.4)\n",
            "Requirement already satisfied: idna<3,>=2.5 in /usr/local/lib/python3.7/dist-packages (from requests>=2.8.1->vk_requests) (2.10)\n",
            "Requirement already satisfied: certifi>=2017.4.17 in /usr/local/lib/python3.7/dist-packages (from requests>=2.8.1->vk_requests) (2021.10.8)\n",
            "Requirement already satisfied: urllib3!=1.25.0,!=1.25.1,<1.26,>=1.21.1 in /usr/local/lib/python3.7/dist-packages (from requests>=2.8.1->vk_requests) (1.24.3)\n"
          ]
        }
      ],
      "source": [
        "!pip install vk_requests"
      ]
    },
    {
      "cell_type": "code",
      "source": [
        "import vk_requests\n",
        "import time\n",
        "import pandas as pd\n",
        "from datetime import datetime\n",
        "import os\n",
        "import urllib.request"
      ],
      "metadata": {
        "id": "h1NPrchxq8Ky"
      },
      "execution_count": null,
      "outputs": []
    },
    {
      "cell_type": "code",
      "source": [
        "token = '57654f39ff46921683dff5189464eaca5fe78b8780a8379102d4c0de2f03bb2be46e6972761f9217fa3ae'\n",
        "api = vk_requests.create_api(service_token=token)"
      ],
      "metadata": {
        "id": "Xv4lsDEArAHH"
      },
      "execution_count": null,
      "outputs": []
    },
    {
      "cell_type": "code",
      "source": [
        "groups = api.groups.search(q='цитаты преподавателей', \n",
        "                           type='page', \n",
        "                          #  sort=6, \n",
        "                           count=20)"
      ],
      "metadata": {
        "id": "2-lEORWJrBxn"
      },
      "execution_count": null,
      "outputs": []
    },
    {
      "cell_type": "code",
      "source": [
        "groups['items']"
      ],
      "metadata": {
        "id": "xHI0wVvordFv",
        "colab": {
          "base_uri": "https://localhost:8080/"
        },
        "outputId": "3a799f25-b5b3-4995-8b3e-91e89b40b26e"
      },
      "execution_count": null,
      "outputs": [
        {
          "output_type": "execute_result",
          "data": {
            "text/plain": [
              "[{'id': 80799731,\n",
              "  'is_admin': 0,\n",
              "  'is_advertiser': 0,\n",
              "  'is_closed': 0,\n",
              "  'is_member': 1,\n",
              "  'name': 'Цитатник МТУ (МИРЭА/МГУПИ/МИТХТ)',\n",
              "  'photo_100': 'https://sun1-22.userapi.com/s/v1/if1/cPAi4bv2T_wGBwM-R_xxbnTtXgR0jJZlRFsw82uoJ8CjaW0fGCvLe9pK10-joLkDGgHQpezl.jpg?size=100x100&quality=96&crop=0,0,1000,1000&ava=1',\n",
              "  'photo_200': 'https://sun1-22.userapi.com/s/v1/if1/gv_F_mU8x_T0I_iDoZIBN9ZtnVhmp_wNMEaglIsb8grdjd0uIwLe2rKbfQDG_uxoecOTKgxn.jpg?size=200x200&quality=96&crop=0,0,1000,1000&ava=1',\n",
              "  'photo_50': 'https://sun1-22.userapi.com/s/v1/if1/N3XYpHlFCVHol5GH6HrpgdzbrhAmyjZYPCPQyxv5fwW16jVkpk1pD4pucXYcT_D-rjFvz0-A.jpg?size=50x50&quality=96&crop=0,0,1000,1000&ava=1',\n",
              "  'screen_name': 'club80799731',\n",
              "  'type': 'page'},\n",
              " {'id': 52298374,\n",
              "  'is_admin': 0,\n",
              "  'is_advertiser': 0,\n",
              "  'is_closed': 0,\n",
              "  'is_member': 0,\n",
              "  'name': 'СПбГУ',\n",
              "  'photo_100': 'https://sun1-19.userapi.com/s/v1/ig2/s3UXwjQLzsIXSj0lHjikBjpHTNWuu1idK6712Rja8Bqtz2QfwxvDxnDP020JjJKa3DXdzt43cWHw5Gq3Iwa0GlW8.jpg?size=100x100&quality=95&crop=2,0,738,738&ava=1',\n",
              "  'photo_200': 'https://sun1-19.userapi.com/s/v1/ig2/eyLl8D4ZnogUt38YD2CPMqiSU_vOQGkk8OELpijX11nU-HicYfuJlL9Fbg0HM5fAtojyR1knXwKpVzAz5my3pK4k.jpg?size=200x200&quality=95&crop=2,0,738,738&ava=1',\n",
              "  'photo_50': 'https://sun1-19.userapi.com/s/v1/ig2/M-qdf97u_ANH7aRMWdW4MjQtH5pxLoV2_j24n9fmbUFirEo-UkXjGKALUb2EAQWrHJpAYfRdXv7IfnPpNV0Vnpzw.jpg?size=50x50&quality=95&crop=2,0,738,738&ava=1',\n",
              "  'screen_name': 'spb1724',\n",
              "  'type': 'page'},\n",
              " {'id': 65652356,\n",
              "  'is_admin': 0,\n",
              "  'is_advertiser': 0,\n",
              "  'is_closed': 0,\n",
              "  'is_member': 0,\n",
              "  'name': 'Цитаты преподавателей МГУ',\n",
              "  'photo_100': 'https://sun1-99.userapi.com/s/v1/if2/zxBd-fnQlt-lJFgS8YmV_KT0ha5kmbfI00GYiTtqhavyGtplMoClPYuwJczuI5wK-mSTnD9C0bBdSMaWedMf3ZOl.jpg?size=100x100&quality=96&crop=669,315,525,525&ava=1',\n",
              "  'photo_200': 'https://sun1-99.userapi.com/s/v1/if2/Ody_d5nxJwRbTh4mZVIMLdXcxLmdWcpwhI2XJF5TbFAPCTuVY9nMJR_3Y4SUymmE80rdUkXCYk2Z7ywUmSzR1543.jpg?size=200x200&quality=96&crop=669,315,525,525&ava=1',\n",
              "  'photo_50': 'https://sun1-99.userapi.com/s/v1/if2/M-lhu3l_qz5N_h_jSncqixs_B7yHRk4y-J2FbIzGX8XqNvS267GSwSG6edb47pY00xCRTujFoM-sB813OEDXu64k.jpg?size=50x50&quality=96&crop=669,315,525,525&ava=1',\n",
              "  'screen_name': 'ustami_msu',\n",
              "  'type': 'page'},\n",
              " {'id': 88039223,\n",
              "  'is_admin': 0,\n",
              "  'is_advertiser': 0,\n",
              "  'is_closed': 0,\n",
              "  'is_member': 0,\n",
              "  'name': 'Цитаты преподавателей СПбПУ',\n",
              "  'photo_100': 'https://sun1-21.userapi.com/s/v1/if1/waqMS5u0UI4zIusddUk1EfSn5YqtN4AaiGKl7OXoEf3PoFyDUZ5uTWji3I4IOxYBtDUnm00h.jpg?size=100x100&quality=96&crop=0,0,500,500&ava=1',\n",
              "  'photo_200': 'https://sun1-21.userapi.com/s/v1/if1/u1OqUtdxznb8bUpuB1O-MP4Pdybu1xLWeVmZXtUJ2-Yw2aC6ena4G-9lyQIsvEXRD_Ot6hZY.jpg?size=200x200&quality=96&crop=0,0,500,500&ava=1',\n",
              "  'photo_50': 'https://sun1-21.userapi.com/s/v1/if1/JVcu6QWR4x9EJJIKfcA5E7MFVIkWKYo6fOC7qXgR9bJeTCYQmp8HWh2mm0qUbUxAL9a40wWa.jpg?size=50x50&quality=96&crop=0,0,500,500&ava=1',\n",
              "  'screen_name': 'citatnik_spbstu',\n",
              "  'type': 'page'},\n",
              " {'id': 82814416,\n",
              "  'is_admin': 0,\n",
              "  'is_advertiser': 0,\n",
              "  'is_closed': 0,\n",
              "  'is_member': 0,\n",
              "  'name': 'Цитаты преподавателей РАНХиГС',\n",
              "  'photo_100': 'https://sun1-20.userapi.com/s/v1/if2/qih8c-IngROhIp06MvrtJ7p1tcqpD7mJUR6PhnZObmS-c2SFpFVRIIVDftGKSw55vhT_be2FVh8T4b12abF7ROf8.jpg?size=100x100&quality=96&crop=0,0,426,426&ava=1',\n",
              "  'photo_200': 'https://sun1-20.userapi.com/s/v1/if2/Q_CWKJVFA7wO6rMpTk1cCP_-cf4DqRHXUbLcXLvjf-CQT1igs_H9cua2BPuoODEiQmbQtWF462GCRK_KQZKP4gN4.jpg?size=200x200&quality=96&crop=0,0,426,426&ava=1',\n",
              "  'photo_50': 'https://sun1-20.userapi.com/s/v1/if2/l_e6gahto9o_SxkRi7mvD_kBnwPc37XE3vlxrbNjRzpl5uH1zad9-6qenXPF-Add3eVO7kd6Ofz4Buzr24Ggz_6W.jpg?size=50x50&quality=96&crop=0,0,426,426&ava=1',\n",
              "  'screen_name': 'cpranepa',\n",
              "  'type': 'page'},\n",
              " {'id': 166326489,\n",
              "  'is_admin': 0,\n",
              "  'is_advertiser': 0,\n",
              "  'is_closed': 0,\n",
              "  'is_member': 0,\n",
              "  'name': 'Цитаты преподавателей СФУ',\n",
              "  'photo_100': 'https://sun1-95.userapi.com/s/v1/if1/gvJWwstXOpv8TmNiSVJVPDnbgVt2zguoDOB7Ta3qK1TSuztGGY2IsLAfls7QgVwtzGP27-EF.jpg?size=100x100&quality=96&crop=330,0,1292,1292&ava=1',\n",
              "  'photo_200': 'https://sun1-95.userapi.com/s/v1/if1/XFWxeHBGNd0vry9JUmuX6dChfyrTTiEFi_UcS25aEG-mddxj0C0s5OG6VzNZVPuvorblBDsk.jpg?size=200x200&quality=96&crop=330,0,1292,1292&ava=1',\n",
              "  'photo_50': 'https://sun1-95.userapi.com/s/v1/if1/of-JUSTN8mfximMJC3tfpyAPfi_2gWET1udalozNZ_kcOnH0ogPQNwfV0IwJm6dyfg8dEeWv.jpg?size=50x50&quality=96&crop=330,0,1292,1292&ava=1',\n",
              "  'screen_name': 'prepod_sfu',\n",
              "  'type': 'page'},\n",
              " {'id': 129370820,\n",
              "  'is_admin': 0,\n",
              "  'is_advertiser': 0,\n",
              "  'is_closed': 0,\n",
              "  'is_member': 0,\n",
              "  'name': 'Цитаты преподавателей ЮФУ (SFEDU)',\n",
              "  'photo_100': 'https://sun1-55.userapi.com/s/v1/if1/kuTgi4QfAOQspMImqHmRxvuAfG1pMYQmS1Nf9QCrjcRGhkQWb75F_ms7x0GGikB9qLZcF71L.jpg?size=100x100&quality=96&crop=68,548,716,716&ava=1',\n",
              "  'photo_200': 'https://sun1-55.userapi.com/s/v1/if1/3M9vy6UQO6nmhoO6o7tfezbLjMtxhUPaAMeI6sd3Kt5mcuiHiKyITlECwBYZFGwUKw6H-tkX.jpg?size=200x200&quality=96&crop=68,548,716,716&ava=1',\n",
              "  'photo_50': 'https://sun1-55.userapi.com/s/v1/if1/VE-xgg6Qk-cMOXUr1uROuR-iRz5VvJM8ejcOs6ONd8I5H-YKIUDdsYyVhvlfvGFGvrtEnE9g.jpg?size=50x50&quality=96&crop=68,548,716,716&ava=1',\n",
              "  'screen_name': 'sfeduquotes',\n",
              "  'type': 'page'},\n",
              " {'id': 109863468,\n",
              "  'is_admin': 0,\n",
              "  'is_advertiser': 0,\n",
              "  'is_closed': 0,\n",
              "  'is_member': 0,\n",
              "  'name': 'Цитаты преподавателей МГТУ им. Н.Э. Баумана',\n",
              "  'photo_100': 'https://sun1-98.userapi.com/s/v1/if1/IUZBnVZIkCxs-IQliVSM9nKw1SPJk8TUa3Btlwwm8ZhJ_nMg29ssAquF3O7vTIqtbt73PKUs.jpg?size=100x100&quality=96&crop=0,0,1600,1600&ava=1',\n",
              "  'photo_200': 'https://sun1-98.userapi.com/s/v1/if1/Wg9kJFwEilADwW3IS6yOnmS3OgslrSuvmdGR8LmAU-jz2vtUFbJfPM_B2u5xy9jNhrWGdIsj.jpg?size=200x200&quality=96&crop=0,0,1600,1600&ava=1',\n",
              "  'photo_50': 'https://sun1-98.userapi.com/s/v1/if1/0RJxSTw0vlQ8w3fl25HQQjjr_rdrGIaNJAtDZXA5RhpJU69nIUtXzPgnI6uZRj3Ybxqptyb-.jpg?size=50x50&quality=96&crop=0,0,1600,1600&ava=1',\n",
              "  'screen_name': 'mgtupage',\n",
              "  'type': 'page'},\n",
              " {'id': 138448201,\n",
              "  'is_admin': 0,\n",
              "  'is_advertiser': 0,\n",
              "  'is_closed': 0,\n",
              "  'is_member': 0,\n",
              "  'name': 'Цитаты преподавателей БГУ',\n",
              "  'photo_100': 'https://sun1-83.userapi.com/s/v1/if1/4wSbDcliHN_jlc_JBf5pcDB56heo2zYEkf3iAuYcAhOkN_avpwThjiYgnYrvmqM97nzjniVj.jpg?size=100x100&quality=96&crop=275,0,202,202&ava=1',\n",
              "  'photo_200': 'https://sun1-83.userapi.com/s/v1/if1/S3GidOQ94tiXA2cKGubWL598DBe_ZqJrXWCbL_HAO7omDQvGh604b9zBClhqA0qeuL2EGoFd.jpg?size=200x200&quality=96&crop=275,0,202,202&ava=1',\n",
              "  'photo_50': 'https://sun1-83.userapi.com/s/v1/if1/zXzJOhe8CZ8ChNTssLrZWou6PLB8WAQreQbuy0iVgwYVzMoa7xbkEHiq0oFowUkHYv8oTxc0.jpg?size=50x50&quality=96&crop=275,0,202,202&ava=1',\n",
              "  'screen_name': 'quotations_bsu',\n",
              "  'type': 'page'},\n",
              " {'id': 72034968,\n",
              "  'is_admin': 0,\n",
              "  'is_advertiser': 0,\n",
              "  'is_closed': 0,\n",
              "  'is_member': 0,\n",
              "  'name': 'Цитаты преподавателей КФУ',\n",
              "  'photo_100': 'https://sun1-92.userapi.com/s/v1/if2/WZsW49XWxY2hPNbtCwQPJvu37otN4O8BHNTK53_CQqDFB6e_ZISleSKBscOXO6rghlxW9UctNPqm-MMef-_6p71J.jpg?size=100x100&quality=96&crop=166,54,236,236&ava=1',\n",
              "  'photo_200': 'https://sun1-92.userapi.com/s/v1/if2/qs9o-ziuVxDGX0uvmTnP8MkEN-bSLJSd18IEuD7zehNLuWZSjzZWOaumI2YzCIBL4wG7FjR62c7uIwKvhnGEkYxw.jpg?size=200x200&quality=96&crop=166,54,236,236&ava=1',\n",
              "  'photo_50': 'https://sun1-92.userapi.com/s/v1/if2/s5zgg74ELu9ieZuc6Vy1EoufRjzMRgQlHAJzjwg-2cirh2CT325qRiRL2bFYA8XeGG-WnskBF54-93mVeCJUpWS9.jpg?size=50x50&quality=96&crop=166,54,236,236&ava=1',\n",
              "  'screen_name': 'glagolit_ksu',\n",
              "  'type': 'page'},\n",
              " {'id': 129208838,\n",
              "  'is_admin': 0,\n",
              "  'is_advertiser': 0,\n",
              "  'is_closed': 0,\n",
              "  'is_member': 0,\n",
              "  'name': 'Цитаты преподавателей БГТУ \"Военмех\"',\n",
              "  'photo_100': 'https://sun1-55.userapi.com/s/v1/ig2/Xh_UQOZCmuYonEkBugEdCfLJCthVC0GbL3hhqko6fPJjEwkNitOKOtAxwcEUfcTpgULEoddMOTofTvvg78v_m6my.jpg?size=100x100&quality=96&crop=95,93,427,427&ava=1',\n",
              "  'photo_200': 'https://sun1-55.userapi.com/s/v1/ig2/GfqA-nocLCp3mXMIx-OpwFWrFxaZuHIK9dqC1KZ8vyPqF75VmfwoVeze-mwa255luKuWwTszKI-xzgROQy9L9oy9.jpg?size=200x200&quality=96&crop=95,93,427,427&ava=1',\n",
              "  'photo_50': 'https://sun1-55.userapi.com/s/v1/ig2/s6B4w_ZKZgpT2-XaGWJFrtmtC_wEsYqX_lDhsCC09_WHSISoCvFudlVgNoSICytkcW3aaX2nR8HcegeLwDJ8gEWE.jpg?size=50x50&quality=96&crop=95,93,427,427&ava=1',\n",
              "  'screen_name': 'cutatnik_bgty',\n",
              "  'type': 'page'},\n",
              " {'id': 128692347,\n",
              "  'is_admin': 0,\n",
              "  'is_advertiser': 0,\n",
              "  'is_closed': 0,\n",
              "  'is_member': 0,\n",
              "  'name': 'Цитаты преподавателей МФТИ',\n",
              "  'photo_100': 'https://sun1-29.userapi.com/s/v1/if1/eYtvqWCHUZJG80QnCDuPCuZ1LZh2x77RxjphVPsqlFzyk0811LbjxNgHANDhDGwXHBJGd77n.jpg?size=100x100&quality=96&crop=0,0,498,498&ava=1',\n",
              "  'photo_200': 'https://sun1-29.userapi.com/s/v1/if1/2nF0kHvsElp7Pi-1hkR1mXBGWq49ape-D29qxC_yGd-pmI5WY6yUstI4pZkR2EGLFTvQpklQ.jpg?size=200x200&quality=96&crop=0,0,498,498&ava=1',\n",
              "  'photo_50': 'https://sun1-29.userapi.com/s/v1/if1/bjFBrmHkMwgqBj4Tvc5W3M9MSAGXuILg16K95iOcmy9-5jNt12dKDW8qQ6gcH1Xa0Y4f5Xrb.jpg?size=50x50&quality=96&crop=0,0,498,498&ava=1',\n",
              "  'screen_name': 'prepod_mipt',\n",
              "  'type': 'page'},\n",
              " {'id': 110581128,\n",
              "  'is_admin': 0,\n",
              "  'is_advertiser': 0,\n",
              "  'is_closed': 0,\n",
              "  'is_member': 0,\n",
              "  'name': 'Цитаты преподавателей ПГНИУ',\n",
              "  'photo_100': 'https://sun1-24.userapi.com/s/v1/ig2/siMGP_EgRz5504x0Jkuu5EezFGTK1X0UEYW37l4J1JzM5MpyH7Bup1O3aPaup2nMPR67N187vrIFIznFT6pzbrfz.jpg?size=100x100&quality=96&crop=68,301,504,504&ava=1',\n",
              "  'photo_200': 'https://sun1-24.userapi.com/s/v1/ig2/v5dqkUAsNKqJEOuZxdWpjTZ8rMzFx7RO42QbD4JTGLJStHKpDlebVIX1EaQXuMqqiBEzChUhKyz5p31AzRkcED_D.jpg?size=200x200&quality=96&crop=68,301,504,504&ava=1',\n",
              "  'photo_50': 'https://sun1-24.userapi.com/s/v1/ig2/SN30SkoM83bCeRBLx2Z-12ohqlbOFK4ak2sFErdYo0tHekYf1puV5shRKADvLaq6MGrWYescPp0svHk48Vs8_-pi.jpg?size=50x50&quality=96&crop=68,301,504,504&ava=1',\n",
              "  'screen_name': 'psu21',\n",
              "  'type': 'page'},\n",
              " {'id': 80275457,\n",
              "  'is_admin': 0,\n",
              "  'is_advertiser': 0,\n",
              "  'is_closed': 0,\n",
              "  'is_member': 0,\n",
              "  'name': 'Цитаты преподавателей НГМУ',\n",
              "  'photo_100': 'https://sun1-30.userapi.com/s/v1/if1/rVgSKw2VRPbb4QvyKbYQwcWmMmEYF8BMLaFI5LQ6q9I2nwLOOIrVKPQrIBXT6lF0IxBAkw.jpg?size=100x100&quality=96&crop=77,33,268,268&ava=1',\n",
              "  'photo_200': 'https://sun1-30.userapi.com/s/v1/if1/_0jd8KREP0oTbNpi7BbF8G8sQn3pD58QsusPy7tWCC5qDfijoJoKaCWnAW_cP6hwyVzkAQ.jpg?size=200x200&quality=96&crop=77,33,268,268&ava=1',\n",
              "  'photo_50': 'https://sun1-30.userapi.com/s/v1/if1/-egUG6-d82dh3rxsBo9Q0DJeToXBA8kSgerfTaTLu9utQHzOXV_j6NcC6LqBhKjAFcfggA.jpg?size=50x50&quality=96&crop=77,33,268,268&ava=1',\n",
              "  'screen_name': 'ngmu_quotations',\n",
              "  'type': 'page'},\n",
              " {'id': 81567660,\n",
              "  'is_admin': 0,\n",
              "  'is_advertiser': 0,\n",
              "  'is_closed': 0,\n",
              "  'is_member': 0,\n",
              "  'name': 'Цитаты преподавателей ННГУ',\n",
              "  'photo_100': 'https://sun1-26.userapi.com/s/v1/if1/yG-J0GalN01Ynira17-7oa3Bkge2hYfwp1b9EWvSNsZc49_2l09QEWEW8U-_ejZPq0gCug.jpg?size=100x100&quality=96&crop=313,0,799,799&ava=1',\n",
              "  'photo_200': 'https://sun1-26.userapi.com/s/v1/if1/Dv8uLG1Kg-mWAR78WCus8RQYCpUMI70TxpHaV1j0iec4fsQ8LcDZE35Fchjr5_VTl1X36w.jpg?size=200x200&quality=96&crop=313,0,799,799&ava=1',\n",
              "  'photo_50': 'https://sun1-26.userapi.com/s/v1/if1/10PIYWQR5U40edzKsG2NTuA0hCY0vkC2s-tCVSqYncL5bNcsb59RDlh_JWd08bPL-hknXQ.jpg?size=50x50&quality=96&crop=313,0,799,799&ava=1',\n",
              "  'screen_name': 'ustami_unn',\n",
              "  'type': 'page'},\n",
              " {'id': 176415720,\n",
              "  'is_admin': 0,\n",
              "  'is_advertiser': 0,\n",
              "  'is_closed': 0,\n",
              "  'is_member': 0,\n",
              "  'name': 'Цитаты преподавателей МГПУ',\n",
              "  'photo_100': 'https://sun1-13.userapi.com/s/v1/if1/GAfxASbQLXUUvVWY2B_0eUUWegyccpc3NumBo4Yp08vEkwHeNEFr4WdzNzOTGbuSrDJDVVvh.jpg?size=100x100&quality=96&crop=76,69,1175,1175&ava=1',\n",
              "  'photo_200': 'https://sun1-13.userapi.com/s/v1/if1/o3F-wsDJzbccI-KiZXKF5DvPqMRsU9WhmG6Kb-nUzSAQMxp-PJurAjSxnxSLaW6CTh_U7x5C.jpg?size=200x200&quality=96&crop=76,69,1175,1175&ava=1',\n",
              "  'photo_50': 'https://sun1-13.userapi.com/s/v1/if1/PqYkgO8nonFXS8UVNVUQjsSOfcMweuSMZq71dFyLfYHj_6hiMP0ZvvTu0gmCJfsPnhzD9VDW.jpg?size=50x50&quality=96&crop=76,69,1175,1175&ava=1',\n",
              "  'screen_name': 'club176415720',\n",
              "  'type': 'page'},\n",
              " {'id': 182364117,\n",
              "  'is_admin': 0,\n",
              "  'is_advertiser': 0,\n",
              "  'is_closed': 0,\n",
              "  'is_member': 0,\n",
              "  'name': 'Цитаты преподавателей ЯрГУ',\n",
              "  'photo_100': 'https://sun1-95.userapi.com/s/v1/if1/Z5oas8Ch34j0ZEKq6DbRVZSaXie9v43rZGTyw-HpRooLUPzDPmVuHDW9lf5afcjKqyFp8uLE.jpg?size=100x100&quality=96&crop=27,0,355,355&ava=1',\n",
              "  'photo_200': 'https://sun1-95.userapi.com/s/v1/if1/nNAIYExGFbBSEhQA7Tr6T8p2BMPW_TqLfIAVgjHOox9ORoLYN9T-Y-4RSvQFetCl77sXgeRP.jpg?size=200x200&quality=96&crop=27,0,355,355&ava=1',\n",
              "  'photo_50': 'https://sun1-95.userapi.com/s/v1/if1/3DUjJXZwnDCWjqDXzd94YD76wDu2crMNyo81X_54pVfWzcOTpVm-UizwrnHtYTDRQ1NEvObc.jpg?size=50x50&quality=96&crop=27,0,355,355&ava=1',\n",
              "  'screen_name': 'ustami_yargu',\n",
              "  'type': 'page'},\n",
              " {'id': 155868597,\n",
              "  'is_admin': 0,\n",
              "  'is_advertiser': 0,\n",
              "  'is_closed': 0,\n",
              "  'is_member': 0,\n",
              "  'name': 'Цитаты преподавателей Московского Политеха',\n",
              "  'photo_100': 'https://sun1-95.userapi.com/s/v1/if1/mSolj5EnDOijUZSULEPKfJlVE5rjzxUbWzXz6b33a67Qt1DLM5ZizIIj6si9BjfBADMBCUYq.jpg?size=100x100&quality=96&crop=372,359,789,789&ava=1',\n",
              "  'photo_200': 'https://sun1-95.userapi.com/s/v1/if1/zS61k4ATU2aXzuTi7kivxW2x_iuzYWJcGZM0svnjh___ZLYMnvcnT7w0FVkl5CHejb0fzycJ.jpg?size=200x200&quality=96&crop=372,359,789,789&ava=1',\n",
              "  'photo_50': 'https://sun1-95.userapi.com/s/v1/if1/at1gaGNsBrj22Piu1tTqcW17QECCOp5pWGvzNe4yrtDlNLZXzkXQnWa7aglbjX0pNc-Mj5En.jpg?size=50x50&quality=96&crop=372,359,789,789&ava=1',\n",
              "  'screen_name': 'ustami_mos_politech',\n",
              "  'type': 'page'},\n",
              " {'id': 155573796,\n",
              "  'is_admin': 0,\n",
              "  'is_advertiser': 0,\n",
              "  'is_closed': 0,\n",
              "  'is_member': 0,\n",
              "  'name': 'Цитаты преподавателей керосинки',\n",
              "  'photo_100': 'https://sun1-25.userapi.com/s/v1/if1/GtTmD91XciV2RAGsuIFMrLNJWt75aw3eAhTjbLyPZV-4ch7TItxWD0MkeJQJjjjwqlZa8ckG.jpg?size=100x100&quality=96&crop=167,187,1750,1750&ava=1',\n",
              "  'photo_200': 'https://sun1-25.userapi.com/s/v1/if1/hJ0FN9Q6wQUzHtqiHKPj4ja8qVqR_CN0meawKf6Wz8DJEH48tfRFwhSNbUMEu8qlpX8HSbyB.jpg?size=200x200&quality=96&crop=167,187,1750,1750&ava=1',\n",
              "  'photo_50': 'https://sun1-25.userapi.com/s/v1/if1/5NnSgMuJc_4qvRByIKXKimNM5nQLZeU6Vj82Wcs-TleyHPOHZocS7qRRImSgtU2hKEXIkdTe.jpg?size=50x50&quality=96&crop=167,187,1750,1750&ava=1',\n",
              "  'screen_name': 'kerosin_quotations',\n",
              "  'type': 'page'},\n",
              " {'id': 172249662,\n",
              "  'is_admin': 0,\n",
              "  'is_advertiser': 0,\n",
              "  'is_closed': 0,\n",
              "  'is_member': 0,\n",
              "  'name': 'Цитаты преподавателей ТюмГУ',\n",
              "  'photo_100': 'https://sun1-56.userapi.com/s/v1/if1/BvKhghZv-DeJ7sqyC5g2KkU_l3IDgDniS9xP16chbtU9y79m4-YTiGrN4yBTanK4Pf3NjaY5.jpg?size=100x100&quality=96&crop=64,59,448,448&ava=1',\n",
              "  'photo_200': 'https://sun1-56.userapi.com/s/v1/if1/7EqFaKqcOq3YSAZS60pLPfWqq7bT2dxBu6ylgPKQLGQJ9Y33xRfrigD0EbZ87GIZSmRnVNfz.jpg?size=200x200&quality=96&crop=64,59,448,448&ava=1',\n",
              "  'photo_50': 'https://sun1-56.userapi.com/s/v1/if1/x1nJhl8NpwCa7ewW5GAP_zE-cGRxJhPMPCi_YMqsXO4M0JgHS2UbhFTZqvfT9LGWeMQZlotc.jpg?size=50x50&quality=96&crop=64,59,448,448&ava=1',\n",
              "  'screen_name': 'utmnquotes',\n",
              "  'type': 'page'}]"
            ]
          },
          "metadata": {},
          "execution_count": 182
        }
      ]
    },
    {
      "cell_type": "code",
      "source": [
        "# взятие основных полей (id, тип закрытости, имя)\n",
        "list_groups = list((map(lambda item: {'id': item['id'], \n",
        "                                           'is_closed': item['is_closed'], \n",
        "                                           'name': item['screen_name'], \n",
        "                                           }, groups['items'])))"
      ],
      "metadata": {
        "id": "Xs0K7W-Frp5b"
      },
      "execution_count": null,
      "outputs": []
    },
    {
      "cell_type": "code",
      "source": [
        "# отсеиваем устаревшие группы\n",
        "list_groups = [group for group in list_groups[2:] if group['id'] not in [192769854, 176415720, 83394558]]\n",
        "list_groups"
      ],
      "metadata": {
        "colab": {
          "base_uri": "https://localhost:8080/"
        },
        "id": "aghBOR2mrrUT",
        "outputId": "59525cb8-61a3-418c-f64e-195551f7b066"
      },
      "execution_count": null,
      "outputs": [
        {
          "output_type": "execute_result",
          "data": {
            "text/plain": [
              "[{'id': 65652356, 'is_closed': 0, 'name': 'ustami_msu'},\n",
              " {'id': 88039223, 'is_closed': 0, 'name': 'citatnik_spbstu'},\n",
              " {'id': 82814416, 'is_closed': 0, 'name': 'cpranepa'},\n",
              " {'id': 166326489, 'is_closed': 0, 'name': 'prepod_sfu'},\n",
              " {'id': 129370820, 'is_closed': 0, 'name': 'sfeduquotes'},\n",
              " {'id': 109863468, 'is_closed': 0, 'name': 'mgtupage'},\n",
              " {'id': 138448201, 'is_closed': 0, 'name': 'quotations_bsu'},\n",
              " {'id': 72034968, 'is_closed': 0, 'name': 'glagolit_ksu'},\n",
              " {'id': 129208838, 'is_closed': 0, 'name': 'cutatnik_bgty'},\n",
              " {'id': 128692347, 'is_closed': 0, 'name': 'prepod_mipt'},\n",
              " {'id': 110581128, 'is_closed': 0, 'name': 'psu21'},\n",
              " {'id': 80275457, 'is_closed': 0, 'name': 'ngmu_quotations'},\n",
              " {'id': 81567660, 'is_closed': 0, 'name': 'ustami_unn'},\n",
              " {'id': 182364117, 'is_closed': 0, 'name': 'ustami_yargu'},\n",
              " {'id': 155868597, 'is_closed': 0, 'name': 'ustami_mos_politech'},\n",
              " {'id': 155573796, 'is_closed': 0, 'name': 'kerosin_quotations'},\n",
              " {'id': 172249662, 'is_closed': 0, 'name': 'utmnquotes'}]"
            ]
          },
          "metadata": {},
          "execution_count": 184
        }
      ]
    },
    {
      "cell_type": "code",
      "source": [
        "# берём посты групп за 2022 год\n",
        "time_2022 = 1640984400\n",
        "for group in list_groups:\n",
        "  # постоянный сдвиг\n",
        "  offset = 0\n",
        "  # это время поста, оно должно быть больше чем 01.01.2022\n",
        "  time_post = 2000000000\n",
        "  print(group['name'])\n",
        "  group['posts'] = []\n",
        "  while (time_post>time_2022):\n",
        "    posts = api.wall.get(domain=group['name'], offset=offset, count=100)['items']\n",
        "    \n",
        "    posts_list = [post['text'] for post in posts]\n",
        "    # в словаре добавляем посты к конкретной группе (к которой они принадлежат)\n",
        "    group['posts'].append(posts_list)\n",
        "    # сдвигаем\n",
        "    offset += 100\n",
        "    # смотрим какая дата у посленего взятого нами поста\n",
        "    time_post = posts[-1]['date']\n",
        "    # спим\n",
        "    time.sleep(0.33)"
      ],
      "metadata": {
        "colab": {
          "base_uri": "https://localhost:8080/"
        },
        "id": "HEX7bsPCrura",
        "outputId": "f7687f74-2941-4958-ba62-684c4d2d5c8a"
      },
      "execution_count": null,
      "outputs": [
        {
          "output_type": "stream",
          "name": "stdout",
          "text": [
            "ustami_msu\n",
            "citatnik_spbstu\n",
            "cpranepa\n",
            "prepod_sfu\n",
            "sfeduquotes\n",
            "mgtupage\n",
            "quotations_bsu\n",
            "glagolit_ksu\n",
            "cutatnik_bgty\n",
            "prepod_mipt\n",
            "psu21\n",
            "ngmu_quotations\n",
            "ustami_unn\n",
            "ustami_yargu\n",
            "ustami_mos_politech\n",
            "kerosin_quotations\n",
            "utmnquotes\n"
          ]
        }
      ]
    },
    {
      "cell_type": "code",
      "source": [
        "list_groups[0]"
      ],
      "metadata": {
        "colab": {
          "base_uri": "https://localhost:8080/"
        },
        "id": "MYM-aJvUsNn1",
        "outputId": "30fd5d11-ece2-4ac7-eaf7-e6588de352e6"
      },
      "execution_count": null,
      "outputs": [
        {
          "output_type": "execute_result",
          "data": {
            "text/plain": [
              "{'id': 65652356,\n",
              " 'is_closed': 0,\n",
              " 'name': 'ustami_msu',\n",
              " 'posts': [['Одной частью мозга, теменной, вы думаете, что на диете, а лобная кора ведёт вас к холодильнику. Все просто.\\n\\nПсихфак, В.А. Дубынин \\n#Дубынин #психфак_мгу',\n",
              "   'Студент задаёт вопрос.\\nПреподаватель: Как Ваша фамилия? *ищет по списку*\\nСтудент: *называет фамилию*\\nП: Ну вот, пока вспоминал Вашу фамилию, забыл шутку, теперь придётся отвечать на вопрос.\\n\\nЮрфак, уголовный процесс, Чекотков А.Ю.\\n#Чекотков #юрфак_мгу',\n",
              "   'Мы все постоянно чувствуем себя маленькими и глупыми и не знаем, когда станем большими и умными…\\n\\nФилфак, Алексеева А.А., семинар по латинскому языку\\n#Алексеева #филфак_мгу',\n",
              "   'Ваша поднятая рука стучит в моё сердце.\\n\\nФакультет мировой политики, Осколков П.В, семинар по истории Запада\\n#Осколков #фмп_мгу',\n",
              "   '*обсуждаем концепцию строгой ответственности предпринимателя в гражданском праве*\\n\\nПреподаватель:\\n— Вы можете предусмотреть в договоре 3 волшебных слова, но не «я тебя люблю», а «при наличии вины».\\n\\nКопылов Д.Г., семинар по предпринимательскому праву\\n#Копылов #юрфак_мгу',\n",
              "   '...В нашем опыте нет абсолютно ничего достоверного. Даже то, что мы с вами здесь находимся в одной аудитории, — это не 100 процентов достоверно. Всегда есть маленькая вероятность галлюцинации... \\n \\nФилософский факультет, Фалёв Е.В., «Неоплатонизм эпохи Возрождения» \\n#Фалёв #философ_мгу',\n",
              "   'Свобода слова в Древней Греции не заключалась в том, чтобы выйти на Красную площадь и прокричать матерное слово. Это прежде всего было право каждого гражданина принять участие в обсуждении любого вопроса. \\n\\nИстфак, История Древней Греции, Стрелков А. В.\\n#Стрелков #истфак_мгу',\n",
              "   'Кафедра древнего мира находится в самом Г... В блоке Г, разумеется. \\n\\nИстфак, О.В. Томашевич собрание по поводу распределения по кафедрам\\n#Томашевич #истфак_мгу',\n",
              "   'В аспирантуре я преподавал на подготовительных курсах, и в группе был один молодой человек. Даниил его звали, никогда не забуду. Он всё время сидел и слушал. Никогда ничего не писал, хотя была тетрадь. \\nИ я однажды не сдержался и спросил: «Даниил, а чего Вы не пишите?»\\nНа что он мне честно ответил: «Алексей Александрович, а я записываю только умные мысли... Жемчужины». \\nПоскольку я не раковина, я решил, что ладно уж, но он не поступит. \\n\\nФилфак, А.А. Холиков\\n#Холиков #филфак_мгу',\n",
              "   'Если вы ходите на лекции по гистологии, читаете Жункейру, то ваш взрослый нейрогенез стимулируется. Следовательно, вы становитесь образованнее, умнее и вообще лучше, потому что гистология, конечно, делает человека прекрасным. \\n\\nБиофак, Е. В. Шеваль. \\n#Шеваль #Биофак_МГУ',\n",
              "   'Самое страшное — это те граждане, которые не хотят участвовать в политической жизни, которым все равно. Вот политическая индифферентность считалась гораздо большим грехом, чем отличающееся политическое убеждение. А вот те граждане, которые не участвовали в политической жизни, их называли «идиотой», то есть «частные лица». Вот их боялись больше всего. \\n\\nИстфак, История Древней Греции, Стрелков А. В.\\n#Стрелков #истфак_мгу',\n",
              "   'Я, конечно, понимаю, что вы любите Малевича, но не могли бы вы включить ваши камеры или хотя бы поставить красивую картинку, как у меня. Сейчас покажу (включает, чёрный экран с изображением Ломоносова)... Эх, надо бы худеть, иначе скоро по фигуре буду как Ломоносов.\\n\\nЮрфак, Римское частное право, Копылов А. В. \\n #Копылов #Юрфак_МГУ',\n",
              "   'Пока я ехал к вам в такси, меня любознательный водитель спросил, в чём смысл жизни. Но ехать было всего 20 минут, я не успел рассказать весь смысл жизни, только частично.\\n\\nФилологический факультет, История Русской литературы, Георгий Владимирович Москвин\\n#Москвин #филфак_мгу',\n",
              "   'Африканские диктатуры появляются практически по одной и той же схеме: президент приходит на демократических началах, потом случайно остается на третий срок, потом меняет под себя конституцию и после двадцати лет правления, задавив полностью оппозицию и независимую прессу, становится полноправным диктатором. Ну, вы знаете, пример все это время у нас перед глазами. Я, разумеется, говорю про президента Камеруна, Поля Бийа.\\n\\nГеографический\\n#геогрфак_мгу',\n",
              "   'Вы решаете задачу, в которой нельзя думать, надо выполнять действия. Если вы будете думать, вы уподобитесь Эйлеру: придется жить сложной жизнью, думать о сложных вещах, учиться решать дифференциальные уравнения. Такой подход свойственен творческим людям, а мы к таким не относимся.\\n\\nФизфак, В.И. Приклонский\\n#Приклонский #физфак_мгу',\n",
              "   '*Первая очная лекция*\\n\\nУ вас старый, глухой преподаватель, который привык слушать в зуме в наушниках. С вашей галёрки надо кричать.\\n\\nФилфак, А.А. Холиков\\n#Холиков #филфак_мгу',\n",
              "   'То что мы сейчас проходим, вы никогда больше не прочитаете, я уверена. \\nА так у вас будут знания. Сможете выпендриться.\\n\\nХимфак, Философия, Конькова А.А.\\n#Конькова #химфак_мгу',\n",
              "   'А я вот не люблю космос и не хотел бы изучать жизнь на других планетах.\\nВедь там не будет тритонов.\\n\\nБиофак, Поярков Н. А.\\n#Поярков #биофак_мгу',\n",
              "   'В сражении на реке Граник Клит спас Александра. Но потом Александр убил Клита на пирушке. Вывод? Пить вредно. \\n\\nИСАА, Никишин В.О., История Античного Мира \\n#Никишин #исаа_мгу',\n",
              "   'Представьте, что вы переезжаете в Америку… а… уже не переезжаете. Тогда представим перелёт в Хабаровск.\\n\\nПсихфак, психофизиология, семинар\\n#психфак_мгу',\n",
              "   'Кто уверен, что после осени зима? \\n\\nПсихфак, Базаров Т.Ю., Психология менеджмента\\n#Базаров #психфак_мгу',\n",
              "   'С чего начинается Родина?\\nС уравнения диссоциации!\\n\\nГеофак, химия\\nЖанафия Маликовна Куренбаева\\n#Куренбаева #геофак_мгу',\n",
              "   'Когда вытираю парту спиртом, мне хочется закусить.\\n\\nФилфак, Клюева\\n#Клюева #филфак_мгу',\n",
              "   'Я теперь боюсь хвалить особей мужского пола, я понял, что от этих похвал они заболевают манией величия. Хвалить можно только женщин, от этого они становятся только красивее.\\n\\nЮридический факультет, Томсинов В.А.\\n#Томсинов #юрфак_мгу',\n",
              "   'Главное, желаю счастья в личной жизни! Личная жизнь — это самое важное. Благодаря ей появляются будущие студенты юридического факультета МГУ. \\n\\nЮрфак, А.Л. Корнеев\\n#Корнеев #юрфак_мгу',\n",
              "   'У преподавателя резко отключается звук на компьютере, спустя пару минут:\\n— Вы меня слышите?\\n— *В чате* Да.\\n— А я вас?\\n...\\n— ...А вы нас — нет...\\n\\nГеографический, Мартынова Е.В., Методы оптимизации\\n#Мартынова #географ_мгу',\n",
              "   'Впервые мобильный телефон у меня появился в 96 году... В 1996 году, не 1896 году!\\n\\nИСАА, Сучкова А.А., теория государственного регулирования\\n#Сучкова #исаа_мгу',\n",
              "   'Вот у мальчика есть девочка, и он бьет ее портфелем по голове вместо того, чтобы как-то поухаживать, понести этот портфель — это вот проявление реактивного образования.\\n\\nПсихфак, О.В. Гордеева, лекция по мотивации и эмоциям  \\n#Гордеева #психфак_мгу',\n",
              "   'Я прощу прощения за простоту того, что я сейчас рассказываю.\\n\\nМехмат, Власов В. В.\\n#Власов #мехмат_мгу',\n",
              "   '\"Я очень люблю физику. Очень люблю химию. Именно поэтому я стала биологом\".\\n\\nБиофак, Ткебучава Л.Ф., Правовые основы природопользования\\n#Ткебучава #биофак_мгу',\n",
              "   'Агроклиматические условия не пропьешь.\\n\\nЭкономфак, Зубаревич Н.В., пара экономики России\\n#Зубаревич #эконом_мгу',\n",
              "   'Квантовая частица – она как морская свинка: и не свинка, и не морская\\n\\nФизфак, Авакянц Л.П.\\nВведение в квантовую физику\\n#Авакянц #физфак_мгу',\n",
              "   'Эббингауз назвал свою первую книгу просто: “О памяти”. Сейчас такой номер не пройдёт...\\n\\nПсихфак, Нуркова В.В., пара психологии внимания и памяти \\n#Нуркова #психфак_мгу',\n",
              "   '- Почему Эос — девственная заря, если у неё было много любовников? \\n- Это вопрос к Гесиоду, не ко мне.\\n\\nФилфак, философия, А.Г. Ляпустин\\n#Ляпустин #филфак_мгу',\n",
              "   '*Студенты пытаются понять, как найти розетки для ноутбука* \\n- О, ещё и интернет отключился… \\n- А мы просто дверь закрыли.\\n\\nБиофак, Строева А.Р., экология микроорганизмов\\n#Строева #биофак_мгу',\n",
              "   'Сейчас некоторые компании по борьбе с изменением климата постоянно пытаются вовлечь Россию. И для людей, хоть немного представляющих нынешнее положение вещей, это кажется диким! <...> Во-первых, потому что мы самая северная страна. И вот у нас пугают этими страшилками про глобальное потепление, и если бы это на самом деле произошло — мы бы остались только в плюсе. Сколько территорий стало бы пригодным для сельского хозяйства! И люди в северных регионах ходили бы не в шапках-ушанках, а в шортах!\\n\\nГеолфак, Оспенников Е.Н., лекция по геокриологии\\n#Оспенников #геолог_мгу',\n",
              "   'Извините, пожалуйста, а можете повторить, что Вы сейчас говорили? \\n\\nПреподаватель: да я уже не помню, что я говорил!! \\n\\nФакультет политологии, Ракитянский Н.М. «Политическое портретирование»\\n#Ракитянский #фп_мгу #политолог_мгу',\n",
              "   'Без примера сейчас сложно, а пример приводить долго.\\n\\nВМК, Матвеев Ф.\\n#Матвеев #вмк_мгу',\n",
              "   'Как то раз в моей молодости, то есть в прошлом году...\\n\\nФакультет политологии, Миронова Дагмар.\\n#Миронова #политолог_мгу',\n",
              "   'Когда первый раз слушаешь квантовую механику, кажется, что это бред.\\n\\nФизфак, Константинова Е. А., лекция по квантовой механике для химиков\\n#Константинова #химфак_мгу #физфак_мгу',\n",
              "   '«Вы же уже видели список литературы?\\nПросмотрели, насколько все там плохо?»\\n\\nФилфак, В. Ю. Лукасик, лекция по истории зарубежной литературы\\n#Лукасик #филфак_мгу',\n",
              "   'Учеба — это дело не пассивное. Вы должны страдать\\n\\nПолитологии, Юлдашев Т.Р.\\nСеминар по философии на политфаке\\n#Юлдашев #политолог_мгу',\n",
              "   'Психологов, как и разведчиков, бывших не бывает.\\n\\nПсихфак, Яковлева\\n#Яковлева #психфак_мгу',\n",
              "   'Даже на свадьбе можно найти 10 минут, чтобы написать тестирование.\\n\\nПсихфак, физиология, Крушинская Я.В\\n#Крушинская #психфак_мгу',\n",
              "   'У (Л. Н.) Толстого почти нет юмора, и это проблема.\\n\\nЖурфак, Р. А. Поддубцев\\n#Поддубцев #журфак_мгу #мфк_мгу',\n",
              "   '*Холиков чихает*\\nСтудент: Будьте здоровы!\\nХоликов, смеясь: Несколько лет назад мне перед сессией так же пожелали. Я так сильно никогда не болел. Но сессию я всё-таки принял. Умирал, но на экзамен полз. Эту песню не задушишь, не убьешь!\\n\\nФилфак, А.А. Холиков\\n#Холиков #филфак_мгу',\n",
              "   'Все, что говорю я, через меня говорит мир философии. Родзинского здесь нет, здесь есть субстанция философии. \\n\\nЮридический, Д.Л. Родзинский, философия\\n#Родзинский #юрфак_мгу',\n",
              "   'Вот представьте, что вы пошли в какой-нибудь ашан или перекрёсток, взяли там... Ну не знаю, гречку, консервы какие-то... Что там ещё студенты едят?.. И пошли на кассу.\\n\\nЭконом, Иванов\\n#Иванов #эконом_мгу',\n",
              "   '*девочка на конфе забыла выключить микрофон и сказала, что препод похож на Ленина в Мавзолее*\\n\\n- Ну, давайте я еще прилягу, чтобы быть в точности похожим на Ленина. \\nА вообще, интересно слышать, что о тебе думают студенты. Вы не знали, а я заслуженный работник прокуратуры, имею связи в ФСБ, служил в Афганистане и храню все виды оружия. А еще у меня 12 айфон про макс, вот, смотрите!!\\n\\nЖурфак, Олег Дмитриевич Жук\\n#Жук #журфак_мгу',\n",
              "   'Знаете, есть у биологов такая шутка:\\nУчёные доказали, что тараканы могут жить без без головы, но в голове им удобнее…\\n\\nБиофак, Преподаватель кафедры микологии и альгологии Е.Ю. Воронина\\n#Воронина #биофак_мгу',\n",
              "   'П: На следующей неделе увидимся вживую.\\nС: На следующей неделе 23 февраля.\\nП: Ооооо, великий праздник. Те, кто смог откосить от армии поздравляют тех, кому не удалось откосить.\\n\\nФФФХИ, Семинар по оптике, Овченкова Ю.А.\\n#Овченкова #фффхи_мгу',\n",
              "   'Мужчине в жизни нужно волноваться раз — когда первый раз.\\n\\nЭкономический факультет, Александр Викторович Ломкин, зимняя сессия по экономической истории\\n#Ломкин #эконом_мгу',\n",
              "   'Вопрос преподавателя модератору дискуссии: \\n\\n- Вам удалось распределить тексты между студентами? \\n- К сожалению, никто из магистрантов ничего не взял. Но может быть, к следующему семинару они заинтересуются темой. \\n- Ну, я не разделяю такой оптимизм...\\n\\nФилфак, Клинг О.А., название семинара неизвестно\\n#Клинг #филфак_мгу',\n",
              "   'С: Михаил Николаевич, можно я просто весь учебник вставлю в свой отчет?\\nП: Тебе можно, ты платный студент.\\n\\nГеографический факультет, Иванов М. Н., Гляциологическая практика 2021\\n#Иванов #географ_мгу',\n",
              "   'Учи, учи, а дураком помрёшь. Ну вы помрёте, я то нет.\\n\\nГеографический, Скипетрова Л.А.\\n#Скипетрова #географ_мгу',\n",
              "   'Какая личная жизнь, у вас Евангелие не прочитано!\\n\\nФилософский факультет, Толстов А. Б.\\n#Толстов #философ_мгу',\n",
              "   'Студент: Извините, что было в начале?\\nПреподаватель: Вначале было слово, потом шесть дней творения, и кое-кто ушёл в отпуск. \\n\\nМШЭ, Д.С. Кукушкин, микроэкономика\\n#Кукушкин #мшэ_мгу',\n",
              "   'Ещё 10 лучших цитат за последний год.\\n\\nПервая десятка:\\nhttps://vk.com/wall-65652356_60974',\n",
              "   'Сегодня нашему паблику 8 лет! Самые популярные цитаты преподавателей МГУ за последний год:\\n\\n#мгу_цитаты',\n",
              "   'Камеры включите, пожалуйста.\\nЕсли вы спите, то я должна это видеть.\\n\\nПсихфак, Антипова А.С., Семинар по английскому языку\\n#Антипова #психфак_мгу',\n",
              "   '«В деревне тоже есть свой центр: дом культуры или хотя бы клуб. А если там есть еще и церковь, то это уже село! Вот вам и центр. Водим хороводы, ходим крестным ходом. Но это же не полис!»\\n\\nИстфак, В. О. Никишин, семинар по истории Античности\\n#Никишин #истфак_мгу',\n",
              "   'Запомните! В химии моль - м.р, а насекомое моль - ж.р. Если уж хотите \"моль\" просклонять, то склоняйте, как мужика!\\n\\nГеофак, Первый семинар по химии, Тюльков И.А.\\n#Тюльков #химфак_мгу',\n",
              "   'Баба Яга — самодостаточная женщина! Вы когда-нибудь применяли к ней такой эпитет? \\n\\nГеографический факультет, Галина Ивановна Гладкевич, лекция по социально-экономической географии\\n#Гладкевич #географ_мгу #СЭГ',\n",
              "   'Когда ты разобрался в теме, это, безусловно, приятно. А когда ты разобрался, а потом понял, что это никому не нужно — еще приятнее.\\n\\nХимический, К.А. Лысенко, Кристаллохимия \\n#Лысенко #химфак_МГУ',\n",
              "   'Выбирать нужно не тот билет, который ты хорошо знаешь, а тот, который не знает экзаменатор.\\n\\nИстфак, А.Н. Левандовский семинар по КМИИ \\n#Левандовский #истфак_мгу',\n",
              "   'Вы скажете: слишком смелая интерпретация, здесь этого ничего нет. Может быть, нам просто больше слов требуется, чтобы выразить ту же идею. Если они это понимали непосредственно, жили внутри этой картины мира – это все равно что рыбам трудно описать важность воды для них. Так же в Древнем Египте не требовалось много слов, чтобы описать Бога. В Древнем царстве реальность Бога была если не реальностью воды для рыб, то реальностью солнца для всего живого.\\n\\nФилософский факультет, Фалёв Е.В.,\\n«Философия Древнего Востока»\\n#Фалёв #философ_мгу',\n",
              "   'У меня сын в Яндекс маркете работает, и последнее время мне не нравится, как Яндекс маркет работает.\\n\\nЭконом, Кудряшова Е.Н.\\n#Кудряшова #эконом_мгу',\n",
              "   'В нашем курсе надо помнить только одну дату: когда изобрели книгопечатание. И то это неизвестно.\\n\\nЖурфак, Прутцков \\n#Прутцков #журфак_мгу',\n",
              "   'Пошла традиция, что бургомистр должен иметь степень доктора, и тогда её просто покупали. Видимо, наши чиновники тоже об этом где-то читали…\\n\\nИстфак, А.Ю. Андреев, МФК по истории Московского университета\\n#Андреев #истфак_мгу',\n",
              "   'Современная наука снимает вопрос \"произошли ли мы от обезьяны?\" Расслабьтесь, мы ими и остались. Можете кривляться и обезьянничать, это ваше естественное свойство! \\n\\nБиофак, Северцова Е. А., МФК по эволюции\\n#Северцова #биофак_мгу #мфк_мгу',\n",
              "   'Биологическая систематика — первое, чем занялся Адам в Раю. \\n\\nБиофак, Северцова Е. А., МФК по эволюции\\n#Северцова #биофак_мгу #мфк_мгу',\n",
              "   'Ну, главное, чтобы после 14 декабря наступало 14 июля!\\n\\nИстфак, Князев\\n#Князев #истфак_мгу',\n",
              "   'МГУ должен готовить учёных, а не ничтожных жриц маркетинга.\\n\\nСоцфак, Рахманов Азат Борисович\\n#Рахманов #Соцфак_мгу',\n",
              "   'Я какие-то общие вещи говорю, потому что у меня сейчас нет настроения сильно углубляться в это.\\n\\nГеологический, Богуславский М.А., лекция по разведке твердых ПИ\\n#Богуславский #геолог_мгу',\n",
              "   'Зима — это радость для людей, которые оторваны от реальной жизни.\\n\\nСоцфак, Рахманов Азат Борисович\\n#Рахманов #соцфак_мгу',\n",
              "   'Мы смотрим на природу России глазами великих поэтов. За Пушкина насмерть замерзали его крестьяне по пути за дровами, а для Пушкина зима — это пора чудес, блестящий снег. Россия — это страшно…\\n— Ну, за рубежом тоже можно умереть (из аудитории).\\n— От чего? От счастья?\\n\\nСоцфак, Рахманов Азат Борисович\\n#Рахманов #Соцфак_мгу',\n",
              "   '*Консультация перед экзаменом*\\n\\nСтудент: «А что нужно ответить на этот вопрос из билета?»\\nПреподаватель: «Ну а что бы вы ответили?»\\n\\nГеологический ф-т, Алексеев А.С.\\n#Алексеев #геолог_мгу',\n",
              "   'И здесь с Рузвельтом почти не было противоречий. Рузвельт скоро умер.\\n\\nИСАА, Орлов Владимир Викторович,\\nМФК \"Россия и арабский мир\"\\n#Орлов #ИСАА_МГУ',\n",
              "   'П: Чем вы хотите заниматься на вашей кафедре?\\nС: Думаю посвятить курсовую связи между перформативным речевым актом Остина и актом высказывания Жака Лакана.\\nП: Знаете, дать кому-нибудь кулаком по лицу — вот и весь ваш речевой акт, а вся эта теория Остина — полное безобразие, в хорошем смысле.\\n\\nФилософский, С. А. Мельников, семинар по истории зарубежной философии\\n#Мельников #философ_мгу',\n",
              "   'Прежде всего, боярин — воин на коне. Он, по крайней мере, не имел лишнего веса, в отличие от меня...\\n\\nФМП, история России, Т.А. Матасова\\n#Матасова #фмп_мгу',\n",
              "   'Очень плохой вам преподаватель попался. Я нифига не успеваю.\\n\\nФилософский факультет, Гавриленко С.М, лекция для первокурсников\\n#Гавриленко #философ_мгу',\n",
              "   '*рассказ про большой ускоритель частиц*\\nБыла раньше такая группа, \"Ван Дер Грааф Дженератор\" называется, два раза в нашей стране гастролировала. Знаете? Ну не знаете, наверное... Ну так вот, не ходите на ее концерты, потому что она должна была называться \"Ван Дер Грааф Акселератор\".\\n\\nГеологический, Д. Д. Соколов, Теория вероятностей и математическая статистика\\n#Соколов #Геолог_МГУ',\n",
              "   '*вводное занятие в стрелковом клубе*\\nТак, кто у нас тут... Юрфак, почвоведы, ВМК, *пауза* журфааак... \\nЧто-то вас слишком много, обычно на стрельбу один психфак приходит!\\n\\n#стрелковыйклуб_мгу',\n",
              "   'С: Понятно.\\nП: Да ладно, мне и то непонятно!\\n\\nПочва, Стафеев\\n#Стафеев #почва_мгу #геолог_мгу',\n",
              "   'Медведя можно накормить сыром камамбер, потому что come on, bear.\\n\\nЖурфак, Якушин\\n#Якушин #журфак_мгу',\n",
              "   'Средний класс — это экономически самодостаточные люди. Вы вот нуждаетесь в стипендии, а вот представители среднего класса не нуждаются. Представитель среднего класса содержит себя сам, это первое качество любого гражданина — экономическая самодостаточность, желание экономической независмости. Пока вы студент и живете на стипендию, у вас никакой свободы не будет.\\n\\nИстфак, А.В. Стрелков. Экзамен по истории Древней Греции\\n#Стрелков #истфак_мгу',\n",
              "   'Вы знаете, Эйнштейн как-то сказал про квантовую механику: \"Бог не играет в кости\".\\nНо вы подумайте, если есть Бог, то есть и Дьявол. А он вполне может играть в кости. Да и вообще, я думаю, что квантовая механика — изобретение Дьявола.\\n\\nФизфак, Капитонов\\n#Капитонов #физфак_мгу',\n",
              "   'Из лекции 2017 года\\n\\n\"Гегель все понимал сразу. Пришла в голову идея, он ее сразу понял и начинает раскручивать. Вначале в кабинете у себя, потом читает лекции, думает, что все понятно. Так он жил... так он и умер\".\\n\\nФИЯР, Комков\\n#Комков #Фияр_мгу',\n",
              "   'Российская социология сейчас занимается анкетоблудием.\\n\\nСоцфак, Рахманов Азат Борисович\\n#Рахманов #соцфак_мгу',\n",
              "   '- У меня в жизни дедлайнов нет, только на кладбище.\\n\\nФМП, Башкиров В.М, немецкий язык\\n#Башкиров #ФМП_мгу',\n",
              "   '(Исписывает всю доску)\\nНу, будем считать, что мы с тензорным законом преобразования познакомились. Чтобы вас утешить, скажу, что это самый простой закон преобразования, дальше будет сложнее.\\n\\nФизфак, А.В. Бадьин\\n#Бадьин #физфак_мгу',\n",
              "   '(Про миф о том, что с миопией нельзя рожать)\\nВ первую очередь, при родах растягивается не глаз.\\n\\nФФМ, Семенова Н.С., Офтальмология\\n#Семенова #ффм_мгу',\n",
              "   '\"Перед экзаменом ничего не штурмуйте, системно подходите, а то будет в голове винегрет\".\\n\\nИстфак, С.П. Карпов (консультация перед экзаменом) \\n#Карпов #истфак_мгу',\n",
              "   'П: В любой затруднительной юридической ситуации обращаемся к кодексам, а если они не помогли, то необходимо написать вашему юридическому консультанту. Кстати, я забыл, кто он у вас?..\\n\\nС: Многоуважаемый Олег Дмитриевич. \\nП: Ой, как хорошо! Вау, супер!\\n\\nЖурфак, Олег Дмитриевич Жук\\n#Жук #журфак_мгу',\n",
              "   'Девушка достаёт на семинаре меллер, делится с одногруппниками. Препод протягивает ей руку и берёт конфету со словами: «Преподаватели настолько нищие, что берут взятки конфетами».\\n\\nХимический, Баев, семинар по истории\\n#Баев #химфак_мгу',\n",
              "   'Консультация перед экзаменом по истории религии, студент спрашивает про идею сансары в раннем буддизме, о концепции перерождения.\\n\\n– Я не Будда. Была бы Буддой, наверное, могла бы вам сказать.\\n\\nФилософский факультет, Ершова И. И. \\n #Ершова #философ_мгу',\n",
              "   '[Про периодизацию палеолита] \\nВ прошлом году мы бы называли вам другие даты. В этом году называем такие. В следующем будем называть новые, извините.\\n\\n Истфак, Житенев\\n#Житенев #истфак_мгу',\n",
              "   'Мне вот однажды сказали, что ребёнка назвали моим именем. Как мне приятно было! Правда, мне потом сказали, что пошутили. Но всё равно приятно. \\n\\nБиофак, Заика Г. С., БЖД\\n#Заика #биофак_мгу',\n",
              "   '(Лекция, студенты хотят получить дополнительные баллы на экзамене) \\n–Алексей Александрович, а у нас коллоквиум будет? \\n–Коллоквиум будет, когда его проведет ваш преподаватель. \\n(Половина студентов тут же смывается.) \\n– А у вас его не было? Ну, давайте сейчас его и проведём.\\n(Аудитория взрывается овациями) \\n\\nФизфак, А.А. Быков\\n#Быков #физфак_мгу',\n",
              "   'Отказ от принципа непycтоты yниверсyма открывает нам широкие возможности для исследования. Вот мы же можем представить себе пyстой мир, в котором нет объетков? Объектов там нет, а логика — есть.\\n\\nФилософский, Маркин В. И., лекция по логике\\n#Маркин #логика #философ_мгy']]}"
            ]
          },
          "metadata": {},
          "execution_count": 186
        }
      ]
    },
    {
      "cell_type": "code",
      "source": [
        "full_list = []\n",
        "for group in list_groups[:]:\n",
        "  for post in group['posts'][0]:\n",
        "    # print(post)\n",
        "    index_sub_str = post.find('\\n\\n') # после \\n\\n идёт фио препода, поэтому отбросим эту часть\n",
        "    full_list.append(post[:index_sub_str].replace('\\n', ' '))"
      ],
      "metadata": {
        "id": "QWppdzVarvXB"
      },
      "execution_count": null,
      "outputs": []
    },
    {
      "cell_type": "code",
      "source": [
        "full_list[:20]"
      ],
      "metadata": {
        "colab": {
          "base_uri": "https://localhost:8080/"
        },
        "id": "YRtBjHO0u-W3",
        "outputId": "5a97c65d-e163-44d1-cb79-5d5837c13ca7"
      },
      "execution_count": null,
      "outputs": [
        {
          "output_type": "execute_result",
          "data": {
            "text/plain": [
              "['Одной частью мозга, теменной, вы думаете, что на диете, а лобная кора ведёт вас к холодильнику. Все просто.',\n",
              " 'Студент задаёт вопрос. Преподаватель: Как Ваша фамилия? *ищет по списку* Студент: *называет фамилию* П: Ну вот, пока вспоминал Вашу фамилию, забыл шутку, теперь придётся отвечать на вопрос.',\n",
              " 'Мы все постоянно чувствуем себя маленькими и глупыми и не знаем, когда станем большими и умными…',\n",
              " 'Ваша поднятая рука стучит в моё сердце.',\n",
              " '*обсуждаем концепцию строгой ответственности предпринимателя в гражданском праве*',\n",
              " '...В нашем опыте нет абсолютно ничего достоверного. Даже то, что мы с вами здесь находимся в одной аудитории, — это не 100 процентов достоверно. Всегда есть маленькая вероятность галлюцинации...    Философский факультет, Фалёв Е.В., «Неоплатонизм эпохи Возрождения»  #Фалёв #философ_мг',\n",
              " 'Свобода слова в Древней Греции не заключалась в том, чтобы выйти на Красную площадь и прокричать матерное слово. Это прежде всего было право каждого гражданина принять участие в обсуждении любого вопроса. ',\n",
              " 'Кафедра древнего мира находится в самом Г... В блоке Г, разумеется. ',\n",
              " 'В аспирантуре я преподавал на подготовительных курсах, и в группе был один молодой человек. Даниил его звали, никогда не забуду. Он всё время сидел и слушал. Никогда ничего не писал, хотя была тетрадь.  И я однажды не сдержался и спросил: «Даниил, а чего Вы не пишите?» На что он мне честно ответил: «Алексей Александрович, а я записываю только умные мысли... Жемчужины».  Поскольку я не раковина, я решил, что ладно уж, но он не поступит. ',\n",
              " 'Если вы ходите на лекции по гистологии, читаете Жункейру, то ваш взрослый нейрогенез стимулируется. Следовательно, вы становитесь образованнее, умнее и вообще лучше, потому что гистология, конечно, делает человека прекрасным. ',\n",
              " 'Самое страшное — это те граждане, которые не хотят участвовать в политической жизни, которым все равно. Вот политическая индифферентность считалась гораздо большим грехом, чем отличающееся политическое убеждение. А вот те граждане, которые не участвовали в политической жизни, их называли «идиотой», то есть «частные лица». Вот их боялись больше всего. ',\n",
              " 'Я, конечно, понимаю, что вы любите Малевича, но не могли бы вы включить ваши камеры или хотя бы поставить красивую картинку, как у меня. Сейчас покажу (включает, чёрный экран с изображением Ломоносова)... Эх, надо бы худеть, иначе скоро по фигуре буду как Ломоносов.',\n",
              " 'Пока я ехал к вам в такси, меня любознательный водитель спросил, в чём смысл жизни. Но ехать было всего 20 минут, я не успел рассказать весь смысл жизни, только частично.',\n",
              " 'Африканские диктатуры появляются практически по одной и той же схеме: президент приходит на демократических началах, потом случайно остается на третий срок, потом меняет под себя конституцию и после двадцати лет правления, задавив полностью оппозицию и независимую прессу, становится полноправным диктатором. Ну, вы знаете, пример все это время у нас перед глазами. Я, разумеется, говорю про президента Камеруна, Поля Бийа.',\n",
              " 'Вы решаете задачу, в которой нельзя думать, надо выполнять действия. Если вы будете думать, вы уподобитесь Эйлеру: придется жить сложной жизнью, думать о сложных вещах, учиться решать дифференциальные уравнения. Такой подход свойственен творческим людям, а мы к таким не относимся.',\n",
              " '*Первая очная лекция*',\n",
              " 'То что мы сейчас проходим, вы никогда больше не прочитаете, я уверена.  А так у вас будут знания. Сможете выпендриться.',\n",
              " 'А я вот не люблю космос и не хотел бы изучать жизнь на других планетах. Ведь там не будет тритонов.',\n",
              " 'В сражении на реке Граник Клит спас Александра. Но потом Александр убил Клита на пирушке. Вывод? Пить вредно. ',\n",
              " 'Представьте, что вы переезжаете в Америку… а… уже не переезжаете. Тогда представим перелёт в Хабаровск.']"
            ]
          },
          "metadata": {},
          "execution_count": 188
        }
      ]
    },
    {
      "cell_type": "markdown",
      "source": [
        "### NLP"
      ],
      "metadata": {
        "id": "4SHzne9s4LR-"
      }
    },
    {
      "cell_type": "markdown",
      "source": [
        "https://python-school.ru/blog/russian-text-preprocessing/\n",
        "\n",
        "https://habr.com/en/post/517410/\n",
        "\n"
      ],
      "metadata": {
        "id": "gjXC5MAJIHMv"
      }
    },
    {
      "cell_type": "code",
      "source": [
        "!pip install pymorphy2\n",
        "!pip install pymorphy2-dicts-ru"
      ],
      "metadata": {
        "colab": {
          "base_uri": "https://localhost:8080/"
        },
        "id": "C8aE_aTNxmNZ",
        "outputId": "426d0f0a-d840-429a-979b-c358d8b31333"
      },
      "execution_count": null,
      "outputs": [
        {
          "output_type": "stream",
          "name": "stdout",
          "text": [
            "Requirement already satisfied: pymorphy2 in /usr/local/lib/python3.7/dist-packages (0.9.1)\n",
            "Requirement already satisfied: docopt>=0.6 in /usr/local/lib/python3.7/dist-packages (from pymorphy2) (0.6.2)\n",
            "Requirement already satisfied: pymorphy2-dicts-ru<3.0,>=2.4 in /usr/local/lib/python3.7/dist-packages (from pymorphy2) (2.4.417127.4579844)\n",
            "Requirement already satisfied: dawg-python>=0.7.1 in /usr/local/lib/python3.7/dist-packages (from pymorphy2) (0.7.2)\n",
            "Requirement already satisfied: pymorphy2-dicts-ru in /usr/local/lib/python3.7/dist-packages (2.4.417127.4579844)\n"
          ]
        }
      ]
    },
    {
      "cell_type": "code",
      "source": [
        "import nltk\n",
        "nltk.download('stopwords')\n",
        "import pymorphy2\n",
        "from nltk.corpus import stopwords\n",
        "import re\n",
        "from nltk.probability import FreqDist\n",
        "import difflib\n",
        "import numpy as np"
      ],
      "metadata": {
        "colab": {
          "base_uri": "https://localhost:8080/"
        },
        "id": "x7qe4WDQxp9P",
        "outputId": "b1a4b10e-5dee-40ee-f270-3d66f5256c32"
      },
      "execution_count": null,
      "outputs": [
        {
          "output_type": "stream",
          "name": "stdout",
          "text": [
            "[nltk_data] Downloading package stopwords to /root/nltk_data...\n",
            "[nltk_data]   Package stopwords is already up-to-date!\n"
          ]
        }
      ]
    },
    {
      "cell_type": "code",
      "source": [
        "morph = pymorphy2.MorphAnalyzer()\n",
        "stopwords_ru = stopwords.words(\"russian\") + ['это', 'нею', 'самый', 'ещё', \"нужно\", \n",
        "                                             \"очень\", \"свой\", \"ваш\", \"наш\", \"весь\", \n",
        "                                             \"всё\", \"который\", \"потому\", \"что\", \"поэтому\",\n",
        "                                             \"почему\", \"просто\", \"вообще\", 'жизнь', \n",
        "                                             'хороший', 'большой', 'сегодня', 'хотеть',\n",
        "                                             'сказать', 'видеть', 'время', ]\n",
        "patterns = \"[A-Za-z0-9!#$%&'()*+,./:;<=>?@[\\]^_`{|}~—\\\"\\-]+\""
      ],
      "metadata": {
        "id": "CjcraGqoxvjt"
      },
      "execution_count": null,
      "outputs": []
    },
    {
      "cell_type": "code",
      "source": [
        "stopwords_ru[:10]"
      ],
      "metadata": {
        "colab": {
          "base_uri": "https://localhost:8080/"
        },
        "id": "pmr62GA4FFr_",
        "outputId": "ef62bae2-88c3-429f-e356-5cbba3c8711b"
      },
      "execution_count": null,
      "outputs": [
        {
          "output_type": "execute_result",
          "data": {
            "text/plain": [
              "['и', 'в', 'во', 'не', 'что', 'он', 'на', 'я', 'с', 'со']"
            ]
          },
          "metadata": {},
          "execution_count": 192
        }
      ]
    },
    {
      "cell_type": "code",
      "source": [
        "def lemmatize(doc):\n",
        "    doc = re.sub(patterns, ' ', doc)\n",
        "    tokens = []\n",
        "    for token in doc.split():\n",
        "        if token:\n",
        "            token = token.strip()\n",
        "            token = morph.normal_forms(token)[0]\n",
        "            if token not in stopwords_ru:\n",
        "              tokens.append(token)\n",
        "    if len(tokens) > 2:\n",
        "        return tokens\n",
        "    return None"
      ],
      "metadata": {
        "id": "CCBtpJHsyKLl"
      },
      "execution_count": null,
      "outputs": []
    },
    {
      "cell_type": "code",
      "source": [
        "clear_list = []\n",
        "for item in full_list:\n",
        "  if lemmatize(item):\n",
        "    clear_list += lemmatize(item)"
      ],
      "metadata": {
        "id": "EC5qWFAj2aHc"
      },
      "execution_count": null,
      "outputs": []
    },
    {
      "cell_type": "code",
      "source": [
        "clear_list[:20]"
      ],
      "metadata": {
        "colab": {
          "base_uri": "https://localhost:8080/"
        },
        "id": "mVnDxYAV3iqH",
        "outputId": "b96646f3-9acf-4094-fa02-61843baa1034"
      },
      "execution_count": null,
      "outputs": [
        {
          "output_type": "execute_result",
          "data": {
            "text/plain": [
              "['часть',\n",
              " 'мозг',\n",
              " 'теменной',\n",
              " 'думать',\n",
              " 'диета',\n",
              " 'лобный',\n",
              " 'кора',\n",
              " 'вести',\n",
              " 'холодильник',\n",
              " 'студент',\n",
              " 'задавать',\n",
              " 'вопрос',\n",
              " 'преподаватель',\n",
              " 'фамилия',\n",
              " 'искать',\n",
              " 'список',\n",
              " 'студент',\n",
              " 'называть',\n",
              " 'фамилия',\n",
              " 'п']"
            ]
          },
          "metadata": {},
          "execution_count": 195
        }
      ]
    },
    {
      "cell_type": "code",
      "source": [
        "fdist = FreqDist(clear_list)\n",
        "fdist.most_common(15)"
      ],
      "metadata": {
        "colab": {
          "base_uri": "https://localhost:8080/"
        },
        "id": "CWv73tKhCsfZ",
        "outputId": "b927ac32-7e26-4c30-b28e-17b46f3c2d93"
      },
      "execution_count": null,
      "outputs": [
        {
          "output_type": "execute_result",
          "data": {
            "text/plain": [
              "[('п', 201),\n",
              " ('студент', 144),\n",
              " ('мочь', 113),\n",
              " ('человек', 103),\n",
              " ('юфу', 98),\n",
              " ('ярг', 90),\n",
              " ('–', 72),\n",
              " ('знать', 70),\n",
              " ('преподаватель', 61),\n",
              " ('говорить', 61),\n",
              " ('»', 59),\n",
              " ('вопрос', 56),\n",
              " ('пара', 54),\n",
              " ('лекция', 52),\n",
              " ('бг', 52)]"
            ]
          },
          "metadata": {},
          "execution_count": 196
        }
      ]
    },
    {
      "cell_type": "code",
      "source": [
        "most_popular_words = fdist.most_common(60)\n",
        "most_popular_words"
      ],
      "metadata": {
        "colab": {
          "base_uri": "https://localhost:8080/"
        },
        "id": "6uq1IIbTGXth",
        "outputId": "0a3cdde1-1f5a-4918-d02e-8618f1448382"
      },
      "execution_count": null,
      "outputs": [
        {
          "output_type": "execute_result",
          "data": {
            "text/plain": [
              "[('п', 201),\n",
              " ('студент', 144),\n",
              " ('мочь', 113),\n",
              " ('человек', 103),\n",
              " ('юфу', 98),\n",
              " ('ярг', 90),\n",
              " ('–', 72),\n",
              " ('знать', 70),\n",
              " ('преподаватель', 61),\n",
              " ('говорить', 61),\n",
              " ('»', 59),\n",
              " ('вопрос', 56),\n",
              " ('пара', 54),\n",
              " ('лекция', 52),\n",
              " ('бг', 52),\n",
              " ('делать', 50),\n",
              " ('год', 46),\n",
              " ('должный', 45),\n",
              " ('мат', 41),\n",
              " ('думать', 40),\n",
              " ('первый', 37),\n",
              " ('идти', 36),\n",
              " ('юрфак', 35),\n",
              " ('слово', 34),\n",
              " ('писать', 33),\n",
              " ('м', 33),\n",
              " ('задача', 31),\n",
              " ('ивт', 31),\n",
              " ('ю', 30),\n",
              " ('фн', 30),\n",
              " ('любить', 29),\n",
              " ('экзамен', 29),\n",
              " ('смотреть', 29),\n",
              " ('химфак', 29),\n",
              " ('жить', 28),\n",
              " ('понять', 28),\n",
              " ('читать', 27),\n",
              " ('понимать', 27),\n",
              " ('давать', 27),\n",
              " ('доска', 26),\n",
              " ('значит', 26),\n",
              " ('решить', 25),\n",
              " ('написать', 25),\n",
              " ('ребёнок', 24),\n",
              " ('математик', 24),\n",
              " ('дело', 23),\n",
              " ('работать', 23),\n",
              " ('физфак', 23),\n",
              " ('стать', 22),\n",
              " ('ходить', 22),\n",
              " ('нибыть', 22),\n",
              " ('группа', 21),\n",
              " ('н', 21),\n",
              " ('работа', 21),\n",
              " ('ждать', 21),\n",
              " ('ифжимкк', 21),\n",
              " ('аудитория', 20),\n",
              " ('сидеть', 20),\n",
              " ('женщина', 20),\n",
              " ('никто', 20)]"
            ]
          },
          "metadata": {},
          "execution_count": 197
        }
      ]
    },
    {
      "cell_type": "code",
      "source": [
        "filter = []\n",
        "for word in most_popular_words:\n",
        "  if len(word[0]) > 2:\n",
        "    filter.append(word[0])"
      ],
      "metadata": {
        "id": "lhQmN3kFHPjx"
      },
      "execution_count": null,
      "outputs": []
    },
    {
      "cell_type": "code",
      "source": [
        "filter"
      ],
      "metadata": {
        "colab": {
          "base_uri": "https://localhost:8080/"
        },
        "id": "aAGWiHhMHv64",
        "outputId": "7cd8a5ed-c4a0-4262-89f3-cbb21152a7b4"
      },
      "execution_count": null,
      "outputs": [
        {
          "output_type": "execute_result",
          "data": {
            "text/plain": [
              "['студент',\n",
              " 'мочь',\n",
              " 'человек',\n",
              " 'юфу',\n",
              " 'ярг',\n",
              " 'знать',\n",
              " 'преподаватель',\n",
              " 'говорить',\n",
              " 'вопрос',\n",
              " 'пара',\n",
              " 'лекция',\n",
              " 'делать',\n",
              " 'год',\n",
              " 'должный',\n",
              " 'мат',\n",
              " 'думать',\n",
              " 'первый',\n",
              " 'идти',\n",
              " 'юрфак',\n",
              " 'слово',\n",
              " 'писать',\n",
              " 'задача',\n",
              " 'ивт',\n",
              " 'любить',\n",
              " 'экзамен',\n",
              " 'смотреть',\n",
              " 'химфак',\n",
              " 'жить',\n",
              " 'понять',\n",
              " 'читать',\n",
              " 'понимать',\n",
              " 'давать',\n",
              " 'доска',\n",
              " 'значит',\n",
              " 'решить',\n",
              " 'написать',\n",
              " 'ребёнок',\n",
              " 'математик',\n",
              " 'дело',\n",
              " 'работать',\n",
              " 'физфак',\n",
              " 'стать',\n",
              " 'ходить',\n",
              " 'нибыть',\n",
              " 'группа',\n",
              " 'работа',\n",
              " 'ждать',\n",
              " 'ифжимкк',\n",
              " 'аудитория',\n",
              " 'сидеть',\n",
              " 'женщина',\n",
              " 'никто']"
            ]
          },
          "metadata": {},
          "execution_count": 199
        }
      ]
    },
    {
      "cell_type": "code",
      "source": [
        "string = '*студент опаздывают на лекцию на полчаса Вот чего вы так поздно приходите? На полчаса опоздали! Лучше бы вообще не приходили...'\n",
        "lemmatize(string)"
      ],
      "metadata": {
        "colab": {
          "base_uri": "https://localhost:8080/"
        },
        "id": "1LzFrdAMITnm",
        "outputId": "37182553-4193-4243-d72f-95e40b2bdd9f"
      },
      "execution_count": null,
      "outputs": [
        {
          "output_type": "execute_result",
          "data": {
            "text/plain": [
              "['студент',\n",
              " 'опаздывать',\n",
              " 'лекция',\n",
              " 'полчаса',\n",
              " 'поздно',\n",
              " 'приходить',\n",
              " 'полчаса',\n",
              " 'опоздать',\n",
              " 'приходить']"
            ]
          },
          "metadata": {},
          "execution_count": 200
        }
      ]
    },
    {
      "cell_type": "code",
      "source": [
        "result = [word for word in filter if word in string]\n",
        "print(result)"
      ],
      "metadata": {
        "colab": {
          "base_uri": "https://localhost:8080/"
        },
        "id": "MH-OG_AHjEzx",
        "outputId": "dde2a112-4ff6-4868-9c85-67fb4180713e"
      },
      "execution_count": null,
      "outputs": [
        {
          "output_type": "stream",
          "name": "stdout",
          "text": [
            "['студент']\n"
          ]
        }
      ]
    },
    {
      "cell_type": "code",
      "source": [
        "# https://vk.com/-102022158 - признания оренбург\n",
        "# https://vk.com/-80799731 - цитатник мирэа"
      ],
      "metadata": {
        "id": "4GQzoCLfkQrE"
      },
      "execution_count": null,
      "outputs": []
    },
    {
      "cell_type": "code",
      "source": [
        "def take_posts(id_of_group):\n",
        "  posts = api.wall.get(owner_id=id_of_group, offset=offset, count=100)['items']\n",
        "  posts_list = [post['text'] for post in posts]\n",
        "  clear_posts_list = []\n",
        "  for post in posts_list:\n",
        "    try:\n",
        "      clear_posts_list.append(lemmatize(post))\n",
        "    except:\n",
        "      pass\n",
        "  return clear_posts_list"
      ],
      "metadata": {
        "id": "sO5OPMmkkSad"
      },
      "execution_count": null,
      "outputs": []
    },
    {
      "cell_type": "code",
      "source": [
        "no_teachers, teachers = take_posts(-102022158), take_posts(-80799731)"
      ],
      "metadata": {
        "id": "uvaHdqt9nAOD"
      },
      "execution_count": null,
      "outputs": []
    },
    {
      "cell_type": "code",
      "source": [
        "no_teachers"
      ],
      "metadata": {
        "id": "GyHC7_WuoHCe"
      },
      "execution_count": null,
      "outputs": []
    },
    {
      "cell_type": "code",
      "source": [
        "def predict(text):\n",
        "  list_common_words = []\n",
        "  for word in filter:\n",
        "    try:\n",
        "      if word in text:\n",
        "        list_common_words.append(word)\n",
        "    except:\n",
        "      pass\n",
        "  return len(list_common_words) > 0, list_common_words"
      ],
      "metadata": {
        "id": "Grmv7gVn3H4P"
      },
      "execution_count": null,
      "outputs": []
    },
    {
      "cell_type": "code",
      "source": [
        "def calculate_score(list_of_phrase):\n",
        "  list_of_predict = [int(predict(item)[0]) for item in list_of_phrase]\n",
        "  count_teachers_pharse = np.array(list_of_predict).sum()\n",
        "  return count_teachers_pharse/len(list_of_predict)"
      ],
      "metadata": {
        "id": "fr1wI4O15Ck0"
      },
      "execution_count": null,
      "outputs": []
    },
    {
      "cell_type": "code",
      "source": [
        "predict(teachers[0])"
      ],
      "metadata": {
        "colab": {
          "base_uri": "https://localhost:8080/"
        },
        "id": "xAkCGOZR4s5C",
        "outputId": "a6a34c27-0287-4528-ec6e-c8ea42cd4739"
      },
      "execution_count": null,
      "outputs": [
        {
          "output_type": "execute_result",
          "data": {
            "text/plain": [
              "(True, ['нибыть'])"
            ]
          },
          "metadata": {},
          "execution_count": 262
        }
      ]
    },
    {
      "cell_type": "code",
      "source": [
        "score = calculate_score(teachers)\n",
        "score"
      ],
      "metadata": {
        "colab": {
          "base_uri": "https://localhost:8080/"
        },
        "id": "4cYvVorrzvFE",
        "outputId": "a38e031a-71e9-44a7-98ac-5da8775b7113"
      },
      "execution_count": null,
      "outputs": [
        {
          "output_type": "execute_result",
          "data": {
            "text/plain": [
              "0.53"
            ]
          },
          "metadata": {},
          "execution_count": 260
        }
      ]
    },
    {
      "cell_type": "markdown",
      "source": [
        "#### метрики"
      ],
      "metadata": {
        "id": "Kzy0LBN5MDBN"
      }
    },
    {
      "cell_type": "code",
      "source": [
        "def get_jaccard_sim(str1, str2): \n",
        "    a = set(str1.split()) \n",
        "    b = set(str2.split())\n",
        "    c = a.intersection(b)\n",
        "    return float(len(c)) / (len(a) + len(b) - len(c))"
      ],
      "metadata": {
        "id": "W06bdHa_LQcp"
      },
      "execution_count": null,
      "outputs": []
    },
    {
      "cell_type": "code",
      "source": [
        "str1 = \" \".join(lemmatize(string))\n",
        "str2 = \" \".join(filter)"
      ],
      "metadata": {
        "id": "qLtfbZZzLYoo"
      },
      "execution_count": null,
      "outputs": []
    },
    {
      "cell_type": "code",
      "source": [
        "matcher = difflib.SequenceMatcher(None, str1, str2)\n",
        "matcher.ratio()"
      ],
      "metadata": {
        "colab": {
          "base_uri": "https://localhost:8080/"
        },
        "id": "fvaZLPg5Kkd9",
        "outputId": "41a04138-0aac-423f-a730-baeb1b72b413"
      },
      "execution_count": null,
      "outputs": [
        {
          "output_type": "execute_result",
          "data": {
            "text/plain": [
              "0.2939068100358423"
            ]
          },
          "metadata": {},
          "execution_count": 214
        }
      ]
    },
    {
      "cell_type": "code",
      "source": [
        "get_jaccard_sim(str1, str2)"
      ],
      "metadata": {
        "colab": {
          "base_uri": "https://localhost:8080/"
        },
        "id": "FLa0eQBwLoiN",
        "outputId": "c0fefb9e-6ffc-408a-f3d8-fa71d6ca8fab"
      },
      "execution_count": null,
      "outputs": [
        {
          "output_type": "execute_result",
          "data": {
            "text/plain": [
              "0.05714285714285714"
            ]
          },
          "metadata": {},
          "execution_count": 216
        }
      ]
    },
    {
      "cell_type": "code",
      "source": [
        "for item in full_list[:20]:\n",
        "  str_test = \" \".join(lemmatize(item))\n",
        "  str_filter = \" \".join(filter)\n",
        "  print(difflib.SequenceMatcher(None, str_test, str_filter).ratio())\n",
        "  # print(get_jaccard_sim(str_test, str_filter))"
      ],
      "metadata": {
        "colab": {
          "base_uri": "https://localhost:8080/"
        },
        "id": "5yymjbJwOUrk",
        "outputId": "2aba3f08-0689-406f-df7d-8e1e4c6f26ff"
      },
      "execution_count": null,
      "outputs": [
        {
          "output_type": "stream",
          "name": "stdout",
          "text": [
            "0.23776223776223776\n",
            "0.28\n",
            "0.22448979591836735\n",
            "0.23552894211576847\n",
            "0.12987012987012986\n",
            "0.1\n",
            "0.2222222222222222\n",
            "0.26956521739130435\n",
            "0.24175824175824176\n",
            "0.16342412451361868\n",
            "0.15920398009950248\n",
            "0.16363636363636364\n",
            "0.1643835616438356\n",
            "0.19931271477663232\n",
            "0.26755852842809363\n",
            "0.2868217054263566\n",
            "0.11403508771929824\n",
            "0.2926829268292683\n",
            "0.21818181818181817\n",
            "0.18502202643171806\n"
          ]
        }
      ]
    },
    {
      "cell_type": "code",
      "source": [
        "str_filter"
      ],
      "metadata": {
        "colab": {
          "base_uri": "https://localhost:8080/"
        },
        "id": "ZS9BxxK2PBpB",
        "outputId": "948b0170-5573-4d92-d437-926566b394fd"
      },
      "execution_count": null,
      "outputs": [
        {
          "output_type": "execute_result",
          "data": {
            "text/plain": [
              "'студент мочь человек ярг знать хотеть сказать говорить преподаватель вопрос просто пара должный хороший жизнь год лекция делать время почему большой видеть идти думать первый понять'"
            ],
            "application/vnd.google.colaboratory.intrinsic+json": {
              "type": "string"
            }
          },
          "metadata": {},
          "execution_count": 215
        }
      ]
    },
    {
      "cell_type": "code",
      "source": [
        "# Метрики не помогли"
      ],
      "metadata": {
        "id": "XxnL8MJYQqyz"
      },
      "execution_count": null,
      "outputs": []
    },
    {
      "cell_type": "markdown",
      "source": [
        "#### регулярки"
      ],
      "metadata": {
        "id": "ASxz4ZA4Qsow"
      }
    }
  ]
}