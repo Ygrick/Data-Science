{
  "nbformat": 4,
  "nbformat_minor": 0,
  "metadata": {
    "colab": {
      "name": "Баннеры.ipynb",
      "provenance": [],
      "collapsed_sections": [],
      "authorship_tag": "ABX9TyNn2UsNXOZbDr5X43L1faho",
      "include_colab_link": true
    },
    "kernelspec": {
      "name": "python3",
      "display_name": "Python 3"
    },
    "language_info": {
      "name": "python"
    }
  },
  "cells": [
    {
      "cell_type": "markdown",
      "metadata": {
        "id": "view-in-github",
        "colab_type": "text"
      },
      "source": [
        "<a href=\"https://colab.research.google.com/github/Ygrick/colab/blob/main/%D0%91%D0%B0%D0%BD%D0%BD%D0%B5%D1%80%D1%8B.ipynb\" target=\"_parent\"><img src=\"https://colab.research.google.com/assets/colab-badge.svg\" alt=\"Open In Colab\"/></a>"
      ]
    },
    {
      "cell_type": "markdown",
      "metadata": {
        "id": "O4_Mh33a5ACp"
      },
      "source": [
        "### Ромайкин Игорь Дмитриевич\n",
        "### ФПИИТ-03-21"
      ]
    },
    {
      "cell_type": "code",
      "metadata": {
        "colab": {
          "base_uri": "https://localhost:8080/"
        },
        "id": "GWotpTwH469O",
        "outputId": "e60e42f2-d68a-4cf6-8b2b-8e1758bc3d1c"
      },
      "source": [
        "from google.colab import drive\n",
        "drive.mount('/content/drive')"
      ],
      "execution_count": null,
      "outputs": [
        {
          "output_type": "stream",
          "name": "stdout",
          "text": [
            "Drive already mounted at /content/drive; to attempt to forcibly remount, call drive.mount(\"/content/drive\", force_remount=True).\n"
          ]
        }
      ]
    },
    {
      "cell_type": "code",
      "metadata": {
        "id": "_py9_67i5bEf"
      },
      "source": [
        "import pandas as pd"
      ],
      "execution_count": null,
      "outputs": []
    },
    {
      "cell_type": "code",
      "metadata": {
        "id": "2U4qNh065TrI"
      },
      "source": [
        "path_of_file = '/content/drive/MyDrive/checkins.dat'\n",
        "df = pd.read_csv(path_of_file,\n",
        "                 sep=\"\\|\\s+\",\n",
        "                 skiprows=2,\n",
        "                 names=['id', 'user_id', 'venue_id', 'latitude', 'longitude', 'created_at'],\n",
        "                 engine='python')"
      ],
      "execution_count": null,
      "outputs": []
    },
    {
      "cell_type": "code",
      "metadata": {
        "colab": {
          "base_uri": "https://localhost:8080/",
          "height": 419
        },
        "id": "ReNkNUvZ56gA",
        "outputId": "01443c7b-75b9-4bcf-9e87-8154bf8311b3"
      },
      "source": [
        "df_test = df.dropna()\n",
        "df_test = df_test.drop(['id', 'user_id', 'venue_id', 'created_at'], axis=1)\n",
        "df_test = df_test[:100000]\n",
        "df_test"
      ],
      "execution_count": null,
      "outputs": [
        {
          "output_type": "execute_result",
          "data": {
            "text/html": [
              "<div>\n",
              "<style scoped>\n",
              "    .dataframe tbody tr th:only-of-type {\n",
              "        vertical-align: middle;\n",
              "    }\n",
              "\n",
              "    .dataframe tbody tr th {\n",
              "        vertical-align: top;\n",
              "    }\n",
              "\n",
              "    .dataframe thead th {\n",
              "        text-align: right;\n",
              "    }\n",
              "</style>\n",
              "<table border=\"1\" class=\"dataframe\">\n",
              "  <thead>\n",
              "    <tr style=\"text-align: right;\">\n",
              "      <th></th>\n",
              "      <th>latitude</th>\n",
              "      <th>longitude</th>\n",
              "    </tr>\n",
              "  </thead>\n",
              "  <tbody>\n",
              "    <tr>\n",
              "      <th>1</th>\n",
              "      <td>38.895112</td>\n",
              "      <td>-77.036366</td>\n",
              "    </tr>\n",
              "    <tr>\n",
              "      <th>3</th>\n",
              "      <td>33.800745</td>\n",
              "      <td>-84.410520</td>\n",
              "    </tr>\n",
              "    <tr>\n",
              "      <th>7</th>\n",
              "      <td>45.523452</td>\n",
              "      <td>-122.676207</td>\n",
              "    </tr>\n",
              "    <tr>\n",
              "      <th>9</th>\n",
              "      <td>40.764462</td>\n",
              "      <td>-111.904565</td>\n",
              "    </tr>\n",
              "    <tr>\n",
              "      <th>10</th>\n",
              "      <td>33.448377</td>\n",
              "      <td>-112.074037</td>\n",
              "    </tr>\n",
              "    <tr>\n",
              "      <th>...</th>\n",
              "      <td>...</td>\n",
              "      <td>...</td>\n",
              "    </tr>\n",
              "    <tr>\n",
              "      <th>233788</th>\n",
              "      <td>33.575000</td>\n",
              "      <td>-117.725556</td>\n",
              "    </tr>\n",
              "    <tr>\n",
              "      <th>233789</th>\n",
              "      <td>37.629349</td>\n",
              "      <td>-122.400087</td>\n",
              "    </tr>\n",
              "    <tr>\n",
              "      <th>233793</th>\n",
              "      <td>29.762884</td>\n",
              "      <td>-95.383061</td>\n",
              "    </tr>\n",
              "    <tr>\n",
              "      <th>233797</th>\n",
              "      <td>32.802955</td>\n",
              "      <td>-96.769923</td>\n",
              "    </tr>\n",
              "    <tr>\n",
              "      <th>233798</th>\n",
              "      <td>37.774929</td>\n",
              "      <td>-122.419415</td>\n",
              "    </tr>\n",
              "  </tbody>\n",
              "</table>\n",
              "<p>100000 rows × 2 columns</p>\n",
              "</div>"
            ],
            "text/plain": [
              "         latitude   longitude\n",
              "1       38.895112  -77.036366\n",
              "3       33.800745  -84.410520\n",
              "7       45.523452 -122.676207\n",
              "9       40.764462 -111.904565\n",
              "10      33.448377 -112.074037\n",
              "...           ...         ...\n",
              "233788  33.575000 -117.725556\n",
              "233789  37.629349 -122.400087\n",
              "233793  29.762884  -95.383061\n",
              "233797  32.802955  -96.769923\n",
              "233798  37.774929 -122.419415\n",
              "\n",
              "[100000 rows x 2 columns]"
            ]
          },
          "metadata": {},
          "execution_count": 84
        }
      ]
    },
    {
      "cell_type": "code",
      "metadata": {
        "id": "py2HBao498va"
      },
      "source": [
        "from sklearn.cluster import MeanShift"
      ],
      "execution_count": null,
      "outputs": []
    },
    {
      "cell_type": "code",
      "metadata": {
        "id": "JkFLF8wd99ve"
      },
      "source": [
        "clustering = MeanShift(bandwidth = 0.3, bin_seeding=True, n_jobs = -1).fit(df_test)"
      ],
      "execution_count": null,
      "outputs": []
    },
    {
      "cell_type": "code",
      "metadata": {
        "id": "Tz7ALhyP68X3",
        "colab": {
          "base_uri": "https://localhost:8080/"
        },
        "outputId": "1e8f709c-fdc1-4784-8ba0-3a6042ae9a9d"
      },
      "source": [
        "import numpy as np\n",
        "\n",
        "labels = clustering.labels_\n",
        "cluster_centers = clustering.cluster_centers_\n",
        "\n",
        "labels_unique = np.unique(labels)\n",
        "n_clusters_ = len(labels_unique)\n",
        "x = []\n",
        "y = []\n",
        "print(\"number of estimated clusters : %d\" % n_clusters_)\n",
        "for el in clustering.cluster_centers_:\n",
        "  x.append(el[1])\n",
        "  y.append(el[0])"
      ],
      "execution_count": null,
      "outputs": [
        {
          "output_type": "stream",
          "name": "stdout",
          "text": [
            "number of estimated clusters : 1647\n"
          ]
        }
      ]
    },
    {
      "cell_type": "code",
      "metadata": {
        "colab": {
          "base_uri": "https://localhost:8080/",
          "height": 265
        },
        "id": "RURI4Bef79CI",
        "outputId": "58c054a6-130c-456d-f841-3e88e1d6e664"
      },
      "source": [
        "import matplotlib.pyplot as plt\n",
        " \n",
        "plt.scatter(x, y)\n",
        "plt.show()"
      ],
      "execution_count": null,
      "outputs": [
        {
          "output_type": "display_data",
          "data": {
            "image/png": "[encoded data removed]",
            "text/plain": [
              "<Figure size 432x288 with 1 Axes>"
            ]
          },
          "metadata": {
            "needs_background": "light"
          }
        }
      ]
    },
    {
      "cell_type": "code",
      "metadata": {
        "colab": {
          "base_uri": "https://localhost:8080/",
          "height": 669
        },
        "id": "LC_rC8XwMIjW",
        "outputId": "fdbdd7da-508c-4aa8-cd9f-1c8a219bc5f5"
      },
      "source": [
        "df_test = df_test.assign(labels = clustering.labels_)\n",
        "count = df_test['labels'].value_counts()[0:20].to_frame()\n",
        "# count.index\n",
        "count"
      ],
      "execution_count": null,
      "outputs": [
        {
          "output_type": "execute_result",
          "data": {
            "text/html": [
              "<div>\n",
              "<style scoped>\n",
              "    .dataframe tbody tr th:only-of-type {\n",
              "        vertical-align: middle;\n",
              "    }\n",
              "\n",
              "    .dataframe tbody tr th {\n",
              "        vertical-align: top;\n",
              "    }\n",
              "\n",
              "    .dataframe thead th {\n",
              "        text-align: right;\n",
              "    }\n",
              "</style>\n",
              "<table border=\"1\" class=\"dataframe\">\n",
              "  <thead>\n",
              "    <tr style=\"text-align: right;\">\n",
              "      <th></th>\n",
              "      <th>labels</th>\n",
              "    </tr>\n",
              "  </thead>\n",
              "  <tbody>\n",
              "    <tr>\n",
              "      <th>0</th>\n",
              "      <td>14237</td>\n",
              "    </tr>\n",
              "    <tr>\n",
              "      <th>1</th>\n",
              "      <td>11228</td>\n",
              "    </tr>\n",
              "    <tr>\n",
              "      <th>2</th>\n",
              "      <td>4333</td>\n",
              "    </tr>\n",
              "    <tr>\n",
              "      <th>3</th>\n",
              "      <td>3729</td>\n",
              "    </tr>\n",
              "    <tr>\n",
              "      <th>4</th>\n",
              "      <td>3222</td>\n",
              "    </tr>\n",
              "    <tr>\n",
              "      <th>5</th>\n",
              "      <td>3031</td>\n",
              "    </tr>\n",
              "    <tr>\n",
              "      <th>6</th>\n",
              "      <td>2058</td>\n",
              "    </tr>\n",
              "    <tr>\n",
              "      <th>7</th>\n",
              "      <td>1993</td>\n",
              "    </tr>\n",
              "    <tr>\n",
              "      <th>8</th>\n",
              "      <td>1841</td>\n",
              "    </tr>\n",
              "    <tr>\n",
              "      <th>9</th>\n",
              "      <td>1841</td>\n",
              "    </tr>\n",
              "    <tr>\n",
              "      <th>10</th>\n",
              "      <td>1815</td>\n",
              "    </tr>\n",
              "    <tr>\n",
              "      <th>11</th>\n",
              "      <td>1682</td>\n",
              "    </tr>\n",
              "    <tr>\n",
              "      <th>12</th>\n",
              "      <td>1649</td>\n",
              "    </tr>\n",
              "    <tr>\n",
              "      <th>13</th>\n",
              "      <td>1406</td>\n",
              "    </tr>\n",
              "    <tr>\n",
              "      <th>14</th>\n",
              "      <td>1331</td>\n",
              "    </tr>\n",
              "    <tr>\n",
              "      <th>15</th>\n",
              "      <td>1291</td>\n",
              "    </tr>\n",
              "    <tr>\n",
              "      <th>16</th>\n",
              "      <td>1192</td>\n",
              "    </tr>\n",
              "    <tr>\n",
              "      <th>17</th>\n",
              "      <td>1071</td>\n",
              "    </tr>\n",
              "    <tr>\n",
              "      <th>18</th>\n",
              "      <td>1068</td>\n",
              "    </tr>\n",
              "    <tr>\n",
              "      <th>28</th>\n",
              "      <td>896</td>\n",
              "    </tr>\n",
              "  </tbody>\n",
              "</table>\n",
              "</div>"
            ],
            "text/plain": [
              "    labels\n",
              "0    14237\n",
              "1    11228\n",
              "2     4333\n",
              "3     3729\n",
              "4     3222\n",
              "5     3031\n",
              "6     2058\n",
              "7     1993\n",
              "8     1841\n",
              "9     1841\n",
              "10    1815\n",
              "11    1682\n",
              "12    1649\n",
              "13    1406\n",
              "14    1331\n",
              "15    1291\n",
              "16    1192\n",
              "17    1071\n",
              "18    1068\n",
              "28     896"
            ]
          },
          "metadata": {},
          "execution_count": 112
        }
      ]
    },
    {
      "cell_type": "code",
      "metadata": {
        "id": "iQRaFaiwZQTz"
      },
      "source": [
        "centers = []\n",
        "for n in range(n_clusters_):\n",
        "  if labels_unique[n] in (count.index):\n",
        "    centers.append(clustering.cluster_centers_[n])"
      ],
      "execution_count": null,
      "outputs": []
    },
    {
      "cell_type": "code",
      "metadata": {
        "colab": {
          "base_uri": "https://localhost:8080/"
        },
        "id": "A0DDlHsUPHa0",
        "outputId": "6f19382d-aa25-4fa8-f182-a7a20d202ceb"
      },
      "source": [
        "\n",
        "for el in centers:\n",
        "  print(f\"{el[0]}, {el[1]}\")"
      ],
      "execution_count": null,
      "outputs": [
        {
          "output_type": "stream",
          "name": "stdout",
          "text": [
            "40.725608805634316, -73.9867149730416\n",
            "33.43189684473769, -111.96881558672061\n",
            "37.72425657652768, -122.39542699950007\n",
            "41.88342729644118, -87.6450295961614\n",
            "34.05564560980681, -118.31358664413438\n",
            "38.900341411083495, -77.06941752557414\n",
            "33.7940010273567, -84.39017622181849\n",
            "47.60849181283721, -122.29201681932246\n",
            "42.36244004856003, -71.0866931575786\n",
            "33.777253830418, -117.93296739918792\n",
            "32.86188590583993, -117.11821682429877\n",
            "44.9649565975627, -93.25201861533834\n",
            "37.42007523953871, -122.02485675154797\n",
            "36.11125871927546, -115.15914216408562\n",
            "32.86262800180273, -96.80907858715278\n",
            "39.963863148800186, -75.16037346932522\n",
            "39.74131610503326, -104.9864780297803\n",
            "28.535454422969522, -81.3915951698398\n",
            "30.278737398783242, -97.7416823217223\n",
            "40.83350485810146, -73.57186467479524\n"
          ]
        }
      ]
    }
  ]
}