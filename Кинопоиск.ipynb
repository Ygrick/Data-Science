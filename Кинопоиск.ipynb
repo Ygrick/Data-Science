{
  "nbformat": 4,
  "nbformat_minor": 0,
  "metadata": {
    "colab": {
      "name": "Кинопоиск.ipynb",
      "provenance": [],
      "authorship_tag": "ABX9TyPCrygBr4v5kbkLm69XlNov",
      "include_colab_link": true
    },
    "kernelspec": {
      "name": "python3",
      "display_name": "Python 3"
    },
    "language_info": {
      "name": "python"
    }
  },
  "cells": [
    {
      "cell_type": "markdown",
      "metadata": {
        "id": "view-in-github",
        "colab_type": "text"
      },
      "source": [
        "<a href=\"https://colab.research.google.com/github/Ygrick/colab/blob/main/%D0%9A%D0%B8%D0%BD%D0%BE%D0%BF%D0%BE%D0%B8%D1%81%D0%BA.ipynb\" target=\"_parent\"><img src=\"https://colab.research.google.com/assets/colab-badge.svg\" alt=\"Open In Colab\"/></a>"
      ]
    },
    {
      "cell_type": "markdown",
      "metadata": {
        "id": "IYl9QFY5G4YJ"
      },
      "source": [
        "### Ромайкин Игорь Дмитриевич\n",
        "### ФПИИТ-03-21"
      ]
    },
    {
      "cell_type": "code",
      "metadata": {
        "id": "VAydDderG79k"
      },
      "source": [
        "import pandas as pd"
      ],
      "execution_count": null,
      "outputs": []
    },
    {
      "cell_type": "code",
      "metadata": {
        "colab": {
          "base_uri": "https://localhost:8080/",
          "height": 419
        },
        "id": "spr_Wqvt7izU",
        "outputId": "c8947e01-f3a4-45ee-f357-0c63e0ae3c25"
      },
      "source": [
        "df = pd.read_csv('kinopoisk.csv')\n",
        "mapping = {\n",
        "    'film-item-rating-position__position': 'position',\n",
        "    'selection-film-item-poster__rating': 'poster_rating',\n",
        "    'selection-film-item-meta__name': 'name',\n",
        "    'rating__value': 'rating_value',\n",
        "    'rating__count': 'rating_count',\n",
        "}\n",
        "df.rename(mapper=mapping, inplace=True, axis=1)\n",
        "df"
      ],
      "execution_count": null,
      "outputs": [
        {
          "output_type": "execute_result",
          "data": {
            "text/html": [
              "<div>\n",
              "<style scoped>\n",
              "    .dataframe tbody tr th:only-of-type {\n",
              "        vertical-align: middle;\n",
              "    }\n",
              "\n",
              "    .dataframe tbody tr th {\n",
              "        vertical-align: top;\n",
              "    }\n",
              "\n",
              "    .dataframe thead th {\n",
              "        text-align: right;\n",
              "    }\n",
              "</style>\n",
              "<table border=\"1\" class=\"dataframe\">\n",
              "  <thead>\n",
              "    <tr style=\"text-align: right;\">\n",
              "      <th></th>\n",
              "      <th>position</th>\n",
              "      <th>poster_rating</th>\n",
              "      <th>name</th>\n",
              "      <th>rating_value</th>\n",
              "      <th>rating_count</th>\n",
              "    </tr>\n",
              "  </thead>\n",
              "  <tbody>\n",
              "    <tr>\n",
              "      <th>0</th>\n",
              "      <td>1</td>\n",
              "      <td>9.1</td>\n",
              "      <td>Зеленая миля</td>\n",
              "      <td>8.9</td>\n",
              "      <td>701 104</td>\n",
              "    </tr>\n",
              "    <tr>\n",
              "      <th>1</th>\n",
              "      <td>2</td>\n",
              "      <td>9.1</td>\n",
              "      <td>Побег из Шоушенка</td>\n",
              "      <td>8.9</td>\n",
              "      <td>790 958</td>\n",
              "    </tr>\n",
              "    <tr>\n",
              "      <th>2</th>\n",
              "      <td>3</td>\n",
              "      <td>8.6</td>\n",
              "      <td>Властелин колец: Возвращение короля</td>\n",
              "      <td>8.8</td>\n",
              "      <td>488 761</td>\n",
              "    </tr>\n",
              "    <tr>\n",
              "      <th>3</th>\n",
              "      <td>4</td>\n",
              "      <td>8.6</td>\n",
              "      <td>Властелин колец: Две крепости</td>\n",
              "      <td>8.8</td>\n",
              "      <td>476 404</td>\n",
              "    </tr>\n",
              "    <tr>\n",
              "      <th>4</th>\n",
              "      <td>5</td>\n",
              "      <td>8.6</td>\n",
              "      <td>Властелин колец: Братство Кольца</td>\n",
              "      <td>8.8</td>\n",
              "      <td>527 358</td>\n",
              "    </tr>\n",
              "    <tr>\n",
              "      <th>...</th>\n",
              "      <td>...</td>\n",
              "      <td>...</td>\n",
              "      <td>...</td>\n",
              "      <td>...</td>\n",
              "      <td>...</td>\n",
              "    </tr>\n",
              "    <tr>\n",
              "      <th>245</th>\n",
              "      <td>246</td>\n",
              "      <td>7.7</td>\n",
              "      <td>Марсианин</td>\n",
              "      <td>8.0</td>\n",
              "      <td>424 314</td>\n",
              "    </tr>\n",
              "    <tr>\n",
              "      <th>246</th>\n",
              "      <td>247</td>\n",
              "      <td>7.9</td>\n",
              "      <td>Радио</td>\n",
              "      <td>8.0</td>\n",
              "      <td>21 625</td>\n",
              "    </tr>\n",
              "    <tr>\n",
              "      <th>247</th>\n",
              "      <td>248</td>\n",
              "      <td>8.0</td>\n",
              "      <td>Ведьмина служба доставки</td>\n",
              "      <td>8.0</td>\n",
              "      <td>71 204</td>\n",
              "    </tr>\n",
              "    <tr>\n",
              "      <th>248</th>\n",
              "      <td>249</td>\n",
              "      <td>7.8</td>\n",
              "      <td>Константин: Повелитель тьмы</td>\n",
              "      <td>8.0</td>\n",
              "      <td>350 411</td>\n",
              "    </tr>\n",
              "    <tr>\n",
              "      <th>249</th>\n",
              "      <td>250</td>\n",
              "      <td>8.2</td>\n",
              "      <td>Капернаум</td>\n",
              "      <td>8.0</td>\n",
              "      <td>128 685</td>\n",
              "    </tr>\n",
              "  </tbody>\n",
              "</table>\n",
              "<p>250 rows × 5 columns</p>\n",
              "</div>"
            ],
            "text/plain": [
              "     position  poster_rating  ... rating_value  rating_count\n",
              "0           1            9.1  ...          8.9       701 104\n",
              "1           2            9.1  ...          8.9       790 958\n",
              "2           3            8.6  ...          8.8       488 761\n",
              "3           4            8.6  ...          8.8       476 404\n",
              "4           5            8.6  ...          8.8       527 358\n",
              "..        ...            ...  ...          ...           ...\n",
              "245       246            7.7  ...          8.0       424 314\n",
              "246       247            7.9  ...          8.0        21 625\n",
              "247       248            8.0  ...          8.0        71 204\n",
              "248       249            7.8  ...          8.0       350 411\n",
              "249       250            8.2  ...          8.0       128 685\n",
              "\n",
              "[250 rows x 5 columns]"
            ]
          },
          "metadata": {},
          "execution_count": 3
        }
      ]
    },
    {
      "cell_type": "code",
      "metadata": {
        "id": "bYgdvGV_-l89"
      },
      "source": [
        "from scipy.stats import mannwhitneyu"
      ],
      "execution_count": null,
      "outputs": []
    },
    {
      "cell_type": "code",
      "metadata": {
        "colab": {
          "base_uri": "https://localhost:8080/"
        },
        "id": "rd1be6Q6_mTU",
        "outputId": "37c3c4b2-382d-4686-d5e9-dcd6e2df40d2"
      },
      "source": [
        "_, pvalue = mannwhitneyu(df['poster_rating'], df['rating_value'])\n",
        "print(\"Результат критерия Манна-Уитни:\")\n",
        "print(\"p-value =\", pvalue)"
      ],
      "execution_count": null,
      "outputs": [
        {
          "output_type": "stream",
          "name": "stdout",
          "text": [
            "Результат критерия Манна-Уитни:\n",
            "p-value = 0.44556711927309073\n"
          ]
        }
      ]
    },
    {
      "cell_type": "markdown",
      "metadata": {
        "id": "EGnKCD4sHHAs"
      },
      "source": [
        " pvalue=0.445 > 0.05 \n",
        " нулевая гипотеза выполняется, статистической разницы в рейтингах нет"
      ]
    },
    {
      "cell_type": "code",
      "metadata": {
        "id": "2KPqm2HKHNGC"
      },
      "source": [
        ""
      ],
      "execution_count": null,
      "outputs": []
    }
  ]
}