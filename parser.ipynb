{
  "nbformat": 4,
  "nbformat_minor": 0,
  "metadata": {
    "colab": {
      "name": "parser.ipynb",
      "provenance": [],
      "authorship_tag": "ABX9TyOHYAN+tAIXeFvCL0qFMFEe",
      "include_colab_link": true
    },
    "kernelspec": {
      "name": "python3",
      "display_name": "Python 3"
    },
    "language_info": {
      "name": "python"
    }
  },
  "cells": [
    {
      "cell_type": "markdown",
      "metadata": {
        "id": "view-in-github",
        "colab_type": "text"
      },
      "source": [
        "<a href=\"https://colab.research.google.com/github/Ygrick/colab/blob/main/parser.ipynb\" target=\"_parent\"><img src=\"https://colab.research.google.com/assets/colab-badge.svg\" alt=\"Open In Colab\"/></a>"
      ]
    },
    {
      "cell_type": "markdown",
      "source": [
        "### Ромайкин Игорь. ФПИИТ-03-21"
      ],
      "metadata": {
        "id": "rIgLDcRISUoH"
      }
    },
    {
      "cell_type": "code",
      "execution_count": null,
      "metadata": {
        "id": "N1JtgR-s-NUY"
      },
      "outputs": [],
      "source": [
        "from bs4 import BeautifulSoup\n",
        "import requests"
      ]
    },
    {
      "cell_type": "code",
      "source": [
        "url = 'https://memepedia.ru/memoteka/'\n",
        "response = requests.get(url)\n",
        "soup = BeautifulSoup(response.text, 'lxml')\n",
        "\n",
        "li_posts = soup.findAll(\"li\", class_ = 'post-item post-item-masonry-boxed')\n",
        "a_post = []\n",
        "for el in li_posts:\n",
        "  a_post.append(el.find('a').get('href'))\n",
        "a_post"
      ],
      "metadata": {
        "colab": {
          "base_uri": "https://localhost:8080/"
        },
        "id": "nahaw-4b-QRh",
        "outputId": "ae159647-a74f-4f6d-feb2-1d261494647a"
      },
      "execution_count": null,
      "outputs": [
        {
          "output_type": "execute_result",
          "data": {
            "text/plain": [
              "['https://memepedia.ru/chel-xorosh-megaxorosh-neplox/',\n",
              " 'https://memepedia.ru/novogo-goda-ne-budet/',\n",
              " 'https://memepedia.ru/elena-alyo/',\n",
              " 'https://memepedia.ru/vremya-nachinat-plan-skam/',\n",
              " 'https://memepedia.ru/grustnyj-i-veselyj-passazhiry-avtobusa/',\n",
              " 'https://memepedia.ru/plyli-my-po-moryu-veter-machtu-rval/',\n",
              " 'https://memepedia.ru/moskva-metro-lyublino-rabotaem/',\n",
              " 'https://memepedia.ru/ya-iz-budushhego-nablyudayu/',\n",
              " 'https://memepedia.ru/paren-i-devushka-perepisyvayutsya-v-krovati/',\n",
              " 'https://memepedia.ru/bumych-kukold/',\n",
              " 'https://memepedia.ru/okej-lets-gou/',\n",
              " 'https://memepedia.ru/ya-vse-eto-xavayu-u-menya-net-vybora/',\n",
              " 'https://memepedia.ru/chto-v-korobke/',\n",
              " 'https://memepedia.ru/bazz-lajter-smotrit-na-kostyum/',\n",
              " 'https://memepedia.ru/my-ne-odinakovye/',\n",
              " 'https://memepedia.ru/zhigan-i-dzhigan/',\n",
              " 'https://memepedia.ru/ej-devchonka-v-16-ryadu/',\n",
              " 'https://memepedia.ru/zhestko-nadristal/']"
            ]
          },
          "metadata": {},
          "execution_count": 135
        }
      ]
    },
    {
      "cell_type": "code",
      "source": [
        "# url_a_post = a_post[0]\n",
        "# response_a_post = requests.get(url_a_post)\n",
        "# soup_a_post = BeautifulSoup(response_a_post.text, 'lxml')\n",
        "\n",
        "# category = soup_a_post.findAll(\"span\", itemprop=\"name\")[2].text\n",
        "# year = (soup_a_post.find(\"time\", class_=\"entry-date published \").text)[6:10]\n",
        "# date = soup_a_post.find(\"time\", class_=\"entry-date published \").text\n",
        "# header = soup_a_post.find(\"h1\", class_=\"entry-title s-post-title bb-mb-el\").text \n",
        "# views = soup_a_post.findAll(\"span\", class_=\"post-meta-item post-views\")[0].text\n",
        "# comments = soup_a_post.findAll(\"span\", class_=\"post-meta-item post-votes\")[0].text\n",
        "# img = soup_a_post.find(\"figure\").find(\"img\").get(\"src\")\n",
        "\n",
        "# text_post = soup_a_post.find(\"div\", class_ = \"js-mediator-article s-post-content s-post-small-el bb-mb-el\")\n",
        "# p = text_post.find('p').text\n",
        "# origin = text_post.findAll('h2')[0].find_next().text\n",
        "# meaning = text_post.findAll('h2')[1].find_next().text\n",
        "\n",
        "# print(p)\n",
        "# print(origin)\n",
        "# print(meaning)\n",
        "# text_post.findAll('h2')[0].find_next().text\n",
        "# text_post.findAll('h2')[1].find_next().text\n"
      ],
      "metadata": {
        "id": "mye3F13ON5tr"
      },
      "execution_count": null,
      "outputs": []
    },
    {
      "cell_type": "code",
      "source": [
        "data = {\n",
        "    'category': [],\n",
        "    'year': [],\n",
        "    'date': [],\n",
        "    'header': [],\n",
        "    'views': [],\n",
        "    'comments': [],\n",
        "    'img': [],\n",
        "    'p': [],\n",
        "    'origin': [],\n",
        "    'meaning': [],\n",
        "}\n",
        "for post in a_post:\n",
        "  url_a_post = post\n",
        "  response_a_post = requests.get(url_a_post)\n",
        "  soup_a_post = BeautifulSoup(response_a_post.text, 'lxml')\n",
        "\n",
        "  category = soup_a_post.findAll(\"span\", itemprop=\"name\")[2].text\n",
        "  year = (soup_a_post.find(\"time\", class_=\"entry-date published \").text)[6:10]\n",
        "  date = soup_a_post.find(\"time\", class_=\"entry-date published \").text\n",
        "  header = soup_a_post.find(\"h1\", class_=\"entry-title s-post-title bb-mb-el\").text \n",
        "  views = soup_a_post.findAll(\"span\", class_=\"post-meta-item post-views\")[0].text\n",
        "  comments = soup_a_post.findAll(\"span\", class_=\"post-meta-item post-votes\")[0].text\n",
        "  img = soup_a_post.find(\"figure\").find(\"img\").get(\"src\")\n",
        "\n",
        "  text_post = soup_a_post.find(\"div\", class_ = \"js-mediator-article s-post-content s-post-small-el bb-mb-el\")\n",
        "  p = text_post.find('p').text\n",
        "  origin = text_post.findAll('h2')[0].find_next().text\n",
        "  meaning = text_post.findAll('h2')[1].find_next().text\n",
        "\n",
        "  data['category'].append(category)\n",
        "  data['year'].append(year)\n",
        "  data['date'].append(date)\n",
        "  data['header'].append(header)\n",
        "  data['views'].append(views)\n",
        "  data['comments'].append(comments)\n",
        "  data['img'].append(img)\n",
        "  data['p'].append(p)\n",
        "  data['origin'].append(origin)\n",
        "  data['meaning'].append(meaning)"
      ],
      "metadata": {
        "id": "jRnY0TXQAjNH"
      },
      "execution_count": null,
      "outputs": []
    },
    {
      "cell_type": "code",
      "source": [
        "import pandas as pd\n",
        "df = pd.DataFrame(data)\n",
        "df.head(5)"
      ],
      "metadata": {
        "colab": {
          "base_uri": "https://localhost:8080/",
          "height": 306
        },
        "id": "YeWAWVe9KIhs",
        "outputId": "e171159a-291e-4767-da76-2fc98ded4dbb"
      },
      "execution_count": null,
      "outputs": [
        {
          "output_type": "execute_result",
          "data": {
            "text/html": [
              "<div>\n",
              "<style scoped>\n",
              "    .dataframe tbody tr th:only-of-type {\n",
              "        vertical-align: middle;\n",
              "    }\n",
              "\n",
              "    .dataframe tbody tr th {\n",
              "        vertical-align: top;\n",
              "    }\n",
              "\n",
              "    .dataframe thead th {\n",
              "        text-align: right;\n",
              "    }\n",
              "</style>\n",
              "<table border=\"1\" class=\"dataframe\">\n",
              "  <thead>\n",
              "    <tr style=\"text-align: right;\">\n",
              "      <th></th>\n",
              "      <th>category</th>\n",
              "      <th>year</th>\n",
              "      <th>date</th>\n",
              "      <th>header</th>\n",
              "      <th>views</th>\n",
              "      <th>comments</th>\n",
              "      <th>img</th>\n",
              "      <th>p</th>\n",
              "      <th>origin</th>\n",
              "      <th>meaning</th>\n",
              "    </tr>\n",
              "  </thead>\n",
              "  <tbody>\n",
              "    <tr>\n",
              "      <th>0</th>\n",
              "      <td>Видео</td>\n",
              "      <td>2021</td>\n",
              "      <td>12.12.2021 в 12:36</td>\n",
              "      <td>Чел хорош, мегахорош, неплох</td>\n",
              "      <td>98</td>\n",
              "      <td>0</td>\n",
              "      <td>https://memepedia.ru/wp-content/uploads/2021/1...</td>\n",
              "      <td>Чел хорош, мегахорош, неплох (Чел харош, слови...</td>\n",
              "      <td>Тренд “чел харош” – это продолжение мема “Бебр...</td>\n",
              "      <td>Мем “Чел хорош” используется как реакция для о...</td>\n",
              "    </tr>\n",
              "    <tr>\n",
              "      <th>1</th>\n",
              "      <td>Видео</td>\n",
              "      <td>2021</td>\n",
              "      <td>10.12.2021 в 11:41</td>\n",
              "      <td>Нового года не будет</td>\n",
              "      <td>910</td>\n",
              "      <td>0</td>\n",
              "      <td>https://memepedia.ru/wp-content/uploads/2021/1...</td>\n",
              "      <td>Нового года не будет (Дед Мороз принял ислам) ...</td>\n",
              "      <td>19 декабря 2016 года на ютубе завирусилось вид...</td>\n",
              "      <td>Мем “Нoвого гoда не будет” это постироничный т...</td>\n",
              "    </tr>\n",
              "    <tr>\n",
              "      <th>2</th>\n",
              "      <td>Видео</td>\n",
              "      <td>2021</td>\n",
              "      <td>02.12.2021 в 15:33</td>\n",
              "      <td>Елена алё</td>\n",
              "      <td>16.8k</td>\n",
              "      <td>0</td>\n",
              "      <td>https://memepedia.ru/wp-content/uploads/2021/1...</td>\n",
              "      <td>Елена алё (Удаляй блять) – фраза из голосового...</td>\n",
              "      <td>25 ноября 2021 года пользовательница Тиктока @...</td>\n",
              "      <td>Мемы с фразами скандальной клиентки в прямом и...</td>\n",
              "    </tr>\n",
              "    <tr>\n",
              "      <th>3</th>\n",
              "      <td>Видео</td>\n",
              "      <td>2021</td>\n",
              "      <td>30.11.2021 в 11:04</td>\n",
              "      <td>Время начинать план скам</td>\n",
              "      <td>7.2k</td>\n",
              "      <td>0</td>\n",
              "      <td>https://memepedia.ru/wp-content/uploads/2021/1...</td>\n",
              "      <td>Время начинать план скам (нулевый чел) – мем и...</td>\n",
              "      <td>Основой для мемов стал звук из видео, где пожи...</td>\n",
              "      <td>Отрывок из видео дал миру не только тысячи заб...</td>\n",
              "    </tr>\n",
              "    <tr>\n",
              "      <th>4</th>\n",
              "      <td>Пикча</td>\n",
              "      <td>2021</td>\n",
              "      <td>26.11.2021 в 12:52</td>\n",
              "      <td>Грустный и веселый пассажиры автобуса</td>\n",
              "      <td>3.5k</td>\n",
              "      <td>0</td>\n",
              "      <td>https://memepedia.ru/wp-content/uploads/2021/1...</td>\n",
              "      <td>Грустный и веселый пассажиры автобуса (Two Guy...</td>\n",
              "      <td>Рисунок, ставший шаблоном для мема, в 2013 год...</td>\n",
              "      <td>Мем “Грустный и веселый пассажиры автобуса” в ...</td>\n",
              "    </tr>\n",
              "  </tbody>\n",
              "</table>\n",
              "</div>"
            ],
            "text/plain": [
              "  category  ...                                            meaning\n",
              "0    Видео  ...  Мем “Чел хорош” используется как реакция для о...\n",
              "1    Видео  ...  Мем “Нoвого гoда не будет” это постироничный т...\n",
              "2    Видео  ...  Мемы с фразами скандальной клиентки в прямом и...\n",
              "3    Видео  ...  Отрывок из видео дал миру не только тысячи заб...\n",
              "4    Пикча  ...  Мем “Грустный и веселый пассажиры автобуса” в ...\n",
              "\n",
              "[5 rows x 10 columns]"
            ]
          },
          "metadata": {},
          "execution_count": 142
        }
      ]
    },
    {
      "cell_type": "code",
      "source": [
        "df.to_csv('mems.csv')"
      ],
      "metadata": {
        "id": "XTgMwt7DRvPQ"
      },
      "execution_count": null,
      "outputs": []
    }
  ] 
}
