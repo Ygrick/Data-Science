{
  "nbformat": 4,
  "nbformat_minor": 0,
  "metadata": {
    "colab": {
      "name": "predict.ipynb",
      "provenance": [],
      "authorship_tag": "ABX9TyOy1k1LVeeEPB6FXlLsvm+O",
      "include_colab_link": true
    },
    "kernelspec": {
      "name": "python3",
      "display_name": "Python 3"
    },
    "language_info": {
      "name": "python"
    }
  },
  "cells": [
    {
      "cell_type": "markdown",
      "metadata": {
        "id": "view-in-github",
        "colab_type": "text"
      },
      "source": [
        "<a href=\"https://colab.research.google.com/github/Ygrick/colab/blob/main/predict.ipynb\" target=\"_parent\"><img src=\"https://colab.research.google.com/assets/colab-badge.svg\" alt=\"Open In Colab\"/></a>"
      ]
    },
    {
      "cell_type": "code",
      "metadata": {
        "colab": {
          "base_uri": "https://localhost:8080/"
        },
        "id": "LNbuYgFjeE8g",
        "outputId": "8a38b16c-5b1c-4b18-801c-0c60a2eb45e0"
      },
      "source": [
        "pip install pendulum"
      ],
      "execution_count": null,
      "outputs": [
        {
          "output_type": "stream",
          "text": [
            "Collecting pendulum\n",
            "\u001b[?25l  Downloading https://files.pythonhosted.org/packages/3e/40/bcf73cf69ffc4d68b80b68b5ce4e5f9d8185170e9fac65a73e247e948ff3/pendulum-2.1.2-cp37-cp37m-manylinux1_x86_64.whl (155kB)\n",
            "\u001b[K     |████████████████████████████████| 163kB 2.9MB/s \n",
            "\u001b[?25hRequirement already satisfied: python-dateutil<3.0,>=2.6 in /usr/local/lib/python3.7/dist-packages (from pendulum) (2.8.1)\n",
            "Collecting pytzdata>=2020.1\n",
            "\u001b[?25l  Downloading https://files.pythonhosted.org/packages/e0/4f/4474bda990ee740a020cbc3eb271925ef7daa7c8444240d34ff62c8442a3/pytzdata-2020.1-py2.py3-none-any.whl (489kB)\n",
            "\u001b[K     |████████████████████████████████| 491kB 15.3MB/s \n",
            "\u001b[?25hRequirement already satisfied: six>=1.5 in /usr/local/lib/python3.7/dist-packages (from python-dateutil<3.0,>=2.6->pendulum) (1.15.0)\n",
            "Installing collected packages: pytzdata, pendulum\n",
            "Successfully installed pendulum-2.1.2 pytzdata-2020.1\n"
          ],
          "name": "stdout"
        }
      ]
    },
    {
      "cell_type": "code",
      "metadata": {
        "colab": {
          "base_uri": "https://localhost:8080/"
        },
        "id": "TwMYonNPWkSD",
        "outputId": "f4b0281b-2a11-4eb6-b655-a4409ce1b223"
      },
      "source": [
        "from sklearn.externals import joblib\n",
        "from sklearn.metrics import mean_absolute_error\n",
        "from sklearn.metrics import max_error\n",
        "from sklearn.linear_model import LinearRegression\n",
        "from sklearn.model_selection import train_test_split\n",
        "import numpy\n",
        "import requests\n",
        "import pandas as pd\n",
        "from matplotlib import pyplot as plt\n",
        "import datetime\n",
        "from datetime import date\n",
        "\n",
        "\n",
        "def getRcode(message):\n",
        "    df = pd.read_csv('file1.csv', delimiter=',')\n",
        "    df.drop('Unnamed: 0', axis=1)\n",
        "    dfName = df.set_index('Name')\n",
        "    dfEngName = df.set_index('EngName')\n",
        "    try:\n",
        "        return str(dfName.loc[message, 'Rcode'])[:6]\n",
        "    except KeyError:\n",
        "        try:\n",
        "            return str(dfEngName.loc[message, 'Rcode'])[:6]\n",
        "        except KeyError:\n",
        "            return \"Нет такой валюты\"\n",
        "\n",
        "\n",
        "def get_period(fromDate, toDate, Rcode):\n",
        "    html = requests.get(f'https://cbr.ru/currency_base/dynamics/?UniDbQuery.Posted=True&UniDbQuery.mode=1&UniDbQuery.date_req1=&UniDbQuery.date_req2=&UniDbQuery.VAL_NM_RQ={Rcode}&UniDbQuery.From={fromDate}&UniDbQuery.To={toDate}').text\n",
        "    table = ((pd.concat(pd.read_html(html), ignore_index = True)).drop(index=[0,1])).reset_index(drop=True)\n",
        "    table.columns = ['date', 'multiplier', 'rate']\n",
        "    table['rate'], table['multiplier'] = pd.to_numeric(table['rate'],downcast = \"float\"), pd.to_numeric(table['multiplier'])\n",
        "    table['date'] = pd.to_datetime(table['date'],format=\"%d.%m.%Y\")\n",
        "    for n in range(table.shape[0]):\n",
        "        table['rate'][n] /= table['multiplier'][n]*10000\n",
        "    table = table.drop('multiplier', axis=1)\n",
        "    table = table.iloc[::-1].reset_index(drop=True)\n",
        "    return table\n",
        "\n",
        "\n",
        "def get_prediction(curr):\n",
        "    today = datetime.datetime.today()\n",
        "    tomorrow = (today + datetime.timedelta(days=1))\n",
        "    df = get_period('01.01.2019',today, getRcode(curr)) # с 2016 по текущее с Rcode нужным\n",
        "    new_row = {'date': [tomorrow], 'rate': [0]}\n",
        "    new_df = pd.DataFrame(new_row)\n",
        "    df = pd.concat([df, new_df])\n",
        "    \n",
        "    # df['date'] = pd.to_datetime(df['date']).dt.date\n",
        "    # df['date'] = pd.to_datetime(df['date'],format=\"%d.%m.%Y\")\n",
        "    # разбиение даты на года\\месяцы\\недели\n",
        "    df[\"weekday\"] = df[\"date\"].dt.weekday\n",
        "    df[\"month\"] = df[\"date\"].dt.month\n",
        "    df[\"year\"] = df[\"date\"].dt.year\n",
        "    df.drop(['date'],axis=1,inplace=True)\n",
        "    \n",
        "    # курсы за последние 7 дней (скроллинг\\шифтинг)\n",
        "    past_days = 7\n",
        "    for day in range(past_days):\n",
        "      d = day+1\n",
        "      df[f\"curs_back_{d}d\"] = df[\"rate\"].shift(d)\n",
        "    df.dropna(inplace = True)\n",
        "    \n",
        "    # бинарность столбцов по значениям\n",
        "    df = pd.get_dummies(df, columns=[\"year\", \"month\", \"weekday\"])\n",
        "    print(df)\n",
        "    # нужно создать последннюю строчку(как раз которую будем прогнозировать)\n",
        "    # а именно входные данные\n",
        "    new_df = df[-1:]\n",
        "    df.drop(df.tail(1).index,inplace=True)\n",
        "    # разметка на тестовые и тренировочные данные\n",
        "    x = df.drop('rate',axis=1)\n",
        "    y = df['rate']\n",
        "    X_train, X_test, y_train, y_test = train_test_split(x, y, test_size=0.33)\n",
        "    \n",
        "    # обучение \n",
        "    model = LinearRegression()\n",
        "    model.fit(X_train, y_train)\n",
        "    \n",
        "    # метрика\n",
        "    prediction = model.predict(X_test)\n",
        "    print(mean_absolute_error(y_test,prediction))\n",
        "    print(max_error(y_test,prediction))\n",
        "    \n",
        "    # предсказание\n",
        "    return model.predict(new_df.drop('rate',axis=1))\n",
        "\n",
        "\n",
        "print(get_prediction('Японская иена'))\n",
        "\n",
        "\n"
      ],
      "execution_count": null,
      "outputs": [
        {
          "output_type": "stream",
          "text": [
            "         rate  curs_back_1d  curs_back_2d  ...  weekday_4  weekday_5  weekday_6\n",
            "7    0.606066      0.610893      0.614834  ...          0          1          0\n",
            "8    0.605257      0.606066      0.610893  ...          0          0          0\n",
            "9    0.608345      0.605257      0.606066  ...          0          0          0\n",
            "10   0.605300      0.608345      0.605257  ...          0          0          0\n",
            "11   0.601847      0.605300      0.608345  ...          1          0          0\n",
            "..        ...           ...           ...  ...        ...        ...        ...\n",
            "582  0.674877      0.675920      0.677192  ...          0          0          0\n",
            "583  0.675031      0.674877      0.675920  ...          0          0          0\n",
            "584  0.673525      0.675031      0.674877  ...          1          0          0\n",
            "585  0.669917      0.673525      0.675031  ...          0          1          0\n",
            "0    0.000000      0.669917      0.673525  ...          0          0          0\n",
            "\n",
            "[580 rows x 30 columns]\n",
            "0.004645080753408968\n",
            "0.028595689911045996\n",
            "[0.66859608]\n"
          ],
          "name": "stdout"
        },
        {
          "output_type": "stream",
          "text": [
            "/usr/local/lib/python3.7/dist-packages/ipykernel_launcher.py:35: SettingWithCopyWarning: \n",
            "A value is trying to be set on a copy of a slice from a DataFrame\n",
            "\n",
            "See the caveats in the documentation: https://pandas.pydata.org/pandas-docs/stable/user_guide/indexing.html#returning-a-view-versus-a-copy\n"
          ],
          "name": "stderr"
        }
      ]
    }
  ]
} 
