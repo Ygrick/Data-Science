{
  "nbformat": 4,
  "nbformat_minor": 0,
  "metadata": {
    "colab": {
      "name": "cats_vs_dogs.ipynb",
      "provenance": [],
      "collapsed_sections": [],
      "authorship_tag": "ABX9TyPBxyc140MBHgGnJ6I771rg",
      "include_colab_link": true
    },
    "kernelspec": {
      "name": "python3",
      "display_name": "Python 3"
    },
    "language_info": {
      "name": "python"
    }
  },
  "cells": [
    {
      "cell_type": "markdown",
      "metadata": {
        "id": "view-in-github",
        "colab_type": "text"
      },
      "source": [
        "<a href=\"https://colab.research.google.com/github/Ygrick/colab/blob/main/cats_vs_dogs.ipynb\" target=\"_parent\"><img src=\"https://colab.research.google.com/assets/colab-badge.svg\" alt=\"Open In Colab\"/></a>"
      ]
    },
    {
      "cell_type": "markdown",
      "source": [
        "[Документация torchvision](https://pytorch.org/vision/stable/index.html)\n",
        "\n",
        "\n",
        "[Документация по трансформациям](https://pytorch.org/vision/stable/auto_examples/plot_transforms.html#sphx-glr-auto-examples-plot-transforms-py)\n",
        "\n",
        "[ResNet](https://neurohive.io/ru/vidy-nejrosetej/resnet-34-50-101/)\n",
        "\n",
        "[Как дообучать модель(сделать по примеру)](https://pytorch.org/tutorials/beginner/transfer_learning_tutorial.html)"
      ],
      "metadata": {
        "id": "pFebPbXH2ZfO"
      }
    },
    {
      "cell_type": "markdown",
      "source": [
        "Шаги:\n",
        "1. Подготовка данных\n",
        "2. Подобрать аугментацию (методы трансформации - поворот, цвет, качество картинки)\n",
        "3. Выбор архитектуры (ResNet)\n",
        "4. Обучаем | Дообучаем (Transfer learning)\n",
        "5. Метрики\n",
        "\n",
        "Задание:\n",
        " * до след недели обучить модель по примеру (см ссылки)\n",
        " * сделать два списка которые сохраняют loss и accuracy на каждом шаге (для графика)\n",
        "\n",
        " * 0.5 - 1 балл, 0.75 - 2 балла\n",
        " * модель в расширении .h5 или .pt(лучше)\n",
        " * lr_schelduer - шаг ? - learning rate\n",
        " * в названии фалйа модели - имя и фамилия\n",
        " \n",
        "\n",
        "\n"
      ],
      "metadata": {
        "id": "Bv7DltiDzz19"
      }
    },
    {
      "cell_type": "markdown",
      "source": [
        " ### ТЕОРИЯ\n",
        "\n",
        "> Функция потерь(loss func) - сравнивает правильный ответ с таргетным (т.е. \n",
        "которое предсказали) и выводит разницу (к примеру: y_fact - y_pred)\n",
        "\n",
        "> loss_func = f(y_fact, y_pred)\n",
        "---\n",
        "\n",
        "> Суть обучения - свидение значения функции потерь к минимуму (с помощью градиента SGD) - это метод оптимизации\n",
        "---\n",
        "\n",
        "> Нормализация нужна обязательно (с дефолтными параметрами)\n"
      ],
      "metadata": {
        "id": "zsK8g-5_-8-j"
      }
    },
    {
      "cell_type": "markdown",
      "source": [
        "Проблемы могут быть в:\n",
        "\n",
        "1.   Данных (неправлиьные или мало)\n",
        "2.   Аугментации (неправильные или мало)\n",
        "3.   Размер batch\n",
        "4.   Количество эпох\n",
        "5.   Архитектуру (на ResNet50 или вообще другую)\n",
        "6.   Метод оптимизации (можно нагуглить дефолтные и проверить)\n",
        "\n"
      ],
      "metadata": {
        "id": "7eJfQrJODOO4"
      }
    },
    {
      "cell_type": "code",
      "execution_count": null,
      "metadata": {
        "id": "eWf937YubVIp"
      },
      "outputs": [],
      "source": [
        "def f1_score(tp, fp, tn, fn):\n",
        "  accuracy = (tp+tn)/(tp+tn+fp+fn)\n",
        "  print(f'accuracy = {accuracy}')\n",
        "  precision = tp/(tp+fp)\n",
        "  print(f'precision = {precision}')\n",
        "  recall = tp/(tp+fn)\n",
        "  print(f'recall = {recall}')\n",
        "  f1 = 2*precision*recall/(precision+recall)\n",
        "  print(f'f1_score = {f1}')"
      ]
    },
    {
      "cell_type": "markdown",
      "source": [
        "![cca1b3ad72fc927fbf3d3690f01d2e3b5a31dd2e.png](data:image/png;base64,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)"
      ],
      "metadata": {
        "id": "_43daKi1cTS7"
      }
    },
    {
      "cell_type": "markdown",
      "source": [
        "### Обучение"
      ],
      "metadata": {
        "id": "6LlX1mVD7HZL"
      }
    },
    {
      "cell_type": "code",
      "source": [
        "import torch\n",
        "import torch.nn as nn\n",
        "import torch.optim as optim\n",
        "from torch.optim import lr_scheduler\n",
        "import torch.backends.cudnn as cudnn\n",
        "import numpy as np\n",
        "import torchvision\n",
        "from torchvision import datasets, models, transforms\n",
        "import matplotlib.pyplot as plt\n",
        "import time\n",
        "import os\n",
        "import copy\n",
        "import numpy as np"
      ],
      "metadata": {
        "id": "r-SmnfMz-SlJ"
      },
      "execution_count": null,
      "outputs": []
    },
    {
      "cell_type": "code",
      "source": [
        "from google.colab import drive\n",
        "drive.mount('/content/drive')"
      ],
      "metadata": {
        "id": "tZZwzged7Iab",
        "colab": {
          "base_uri": "https://localhost:8080/"
        },
        "outputId": "fd6d3487-63c4-4f1f-b3bf-fe659c3088ea"
      },
      "execution_count": null,
      "outputs": [
        {
          "output_type": "stream",
          "name": "stdout",
          "text": [
            "Mounted at /content/drive\n"
          ]
        }
      ]
    },
    {
      "cell_type": "code",
      "source": [
        "path_of_file = '/content/drive/MyDrive/PetImages.zip'\n",
        "!unzip '/content/drive/MyDrive/PetImages.zip'"
      ],
      "metadata": {
        "id": "juOa5Diu41WR"
      },
      "execution_count": null,
      "outputs": []
    },
    {
      "cell_type": "code",
      "source": [
        "data_dir = '/content/PetImages'\n",
        "data_transforms = {\n",
        "    'train': transforms.Compose([\n",
        "        # transforms.Resize(256),\n",
        "        transforms.RandomPerspective(distortion_scale=0.6, p=1.0),\n",
        "        transforms.Pad(padding=50),\n",
        "        transforms.RandomHorizontalFlip(p=0.5),\n",
        "        transforms.RandomRotation(degrees=(0, 180)),\n",
        "        transforms.Resize([256,256]),\n",
        "        transforms.ToTensor(),\n",
        "        transforms.Normalize([0.485, 0.456, 0.406], [0.229, 0.224, 0.225])\n",
        "    ]),\n",
        "    'val': transforms.Compose([\n",
        "        # transforms.Resize(256),\n",
        "        transforms.RandomVerticalFlip(p=0.5),\n",
        "        transforms.RandomHorizontalFlip(p=0.5),\n",
        "        transforms.Resize([256,256]),\n",
        "        transforms.ToTensor(),\n",
        "        transforms.Normalize([0.485, 0.456, 0.406], [0.229, 0.224, 0.225])\n",
        "    ]),\n",
        "}\n",
        "\n",
        "image_datasets = {x: datasets.ImageFolder(os.path.join(data_dir, x), \n",
        "                                          data_transforms[x]) for x in ['train', 'val']}\n",
        "\n",
        "dataloaders = {x: torch.utils.data.DataLoader(image_datasets[x], batch_size=64,\n",
        "                                             shuffle=True, num_workers=2) for x in ['train', 'val']}\n",
        "\n",
        "dataset_sizes = {x: len(image_datasets[x]) for x in ['train', 'val']}\n",
        "\n",
        "class_names = image_datasets['train'].classes\n",
        "\n",
        "device = torch.device(\"cuda:0\" if torch.cuda.is_available() else \"cpu\")"
      ],
      "metadata": {
        "id": "O2G4PdPi9oDX"
      },
      "execution_count": null,
      "outputs": []
    },
    {
      "cell_type": "code",
      "source": [
        "val_loss = []\n",
        "val_acc = []\n",
        "train_loss = []\n",
        "train_acc = []"
      ],
      "metadata": {
        "id": "ofeL9TsOJhDD"
      },
      "execution_count": null,
      "outputs": []
    },
    {
      "cell_type": "code",
      "source": [
        "def train_model(model, criterion, optimizer, scheduler, num_epochs=25):\n",
        "    since = time.time()\n",
        "\n",
        "    best_model_wts = copy.deepcopy(model.state_dict())\n",
        "    best_acc = 0.0\n",
        "\n",
        "    for epoch in range(num_epochs):\n",
        "        print('Epoch {}/{}'.format(epoch, num_epochs - 1))\n",
        "        print('-' * 10)\n",
        "\n",
        "        # Each epoch has a training and validation phase\n",
        "        for phase in ['train', 'val']:\n",
        "            if phase == 'train':\n",
        "                model.train()  # Set model to training mode\n",
        "            else:\n",
        "                model.eval()   # Set model to evaluate mode\n",
        "\n",
        "            running_loss = 0.0\n",
        "            running_corrects = 0\n",
        "\n",
        "            # Iterate over data.\n",
        "            for inputs, labels in dataloaders[phase]:\n",
        "                inputs = inputs.to(device)\n",
        "                labels = labels.to(device)\n",
        "\n",
        "                # zero the parameter gradients\n",
        "                optimizer.zero_grad()\n",
        "\n",
        "                # forward\n",
        "                # track history if only in train\n",
        "                with torch.set_grad_enabled(phase == 'train'):\n",
        "                    outputs = model(inputs)\n",
        "                    _, preds = torch.max(outputs, 1)\n",
        "                    loss = criterion(outputs, labels)\n",
        "\n",
        "                    # backward + optimize only if in training phase\n",
        "                    if phase == 'train':\n",
        "                        loss.backward()\n",
        "                        optimizer.step()\n",
        "\n",
        "                # statistics\n",
        "                running_loss += loss.item() * inputs.size(0)\n",
        "                running_corrects += torch.sum(preds == labels.data)\n",
        "            if phase == 'train':\n",
        "                scheduler.step()\n",
        "\n",
        "            epoch_loss = running_loss / dataset_sizes[phase]\n",
        "            epoch_acc = running_corrects.double() / dataset_sizes[phase]\n",
        "            if phase == 'train':\n",
        "              train_loss.append(epoch_loss)\n",
        "              train_acc.append(epoch_acc.item())\n",
        "            else:\n",
        "              val_loss.append(epoch_loss)\n",
        "              val_acc.append(epoch_acc.item())\n",
        "\n",
        "            print('{} Loss: {:.4f} Acc: {:.4f}'.format(\n",
        "                phase, epoch_loss, epoch_acc))\n",
        "\n",
        "            # deep copy the model\n",
        "            if phase == 'val' and epoch_acc > best_acc:\n",
        "                best_acc = epoch_acc\n",
        "                best_model_wts = copy.deepcopy(model.state_dict())\n",
        "                print(epoch)\n",
        "\n",
        "        print()\n",
        "\n",
        "    time_elapsed = time.time() - since\n",
        "    print('Training complete in {:.0f}m {:.0f}s'.format(\n",
        "        time_elapsed // 60, time_elapsed % 60))\n",
        "    print('Best val Acc: {:4f}'.format(best_acc))\n",
        "\n",
        "    # load best model weights\n",
        "    model.load_state_dict(best_model_wts)\n",
        "    return model"
      ],
      "metadata": {
        "id": "n5Wq3MBFJB0s"
      },
      "execution_count": null,
      "outputs": []
    },
    {
      "cell_type": "code",
      "source": [
        "model_ft = models.resnet18(pretrained=True)\n",
        "num_ftrs = model_ft.fc.in_features\n",
        "# Here the size of each output sample is set to 2.\n",
        "# Alternatively, it can be generalized to nn.Linear(num_ftrs, len(class_names)).\n",
        "model_ft.fc = nn.Linear(num_ftrs, 2)\n",
        "\n",
        "model_ft = model_ft.to(device)\n",
        "\n",
        "criterion = nn.CrossEntropyLoss()\n",
        "\n",
        "# Observe that all parameters are being optimized\n",
        "optimizer_ft = optim.SGD(model_ft.parameters(), lr=0.001, momentum=0.9)\n",
        "\n",
        "# Decay LR by a factor of 0.1 every 7 epochs\n",
        "exp_lr_scheduler = lr_scheduler.StepLR(optimizer_ft, step_size=7, gamma=0.1)"
      ],
      "metadata": {
        "id": "VMogVdjmJFMS"
      },
      "execution_count": null,
      "outputs": []
    },
    {
      "cell_type": "code",
      "source": [
        "model_ft = train_model(model_ft, criterion, optimizer_ft, exp_lr_scheduler,\n",
        "                       num_epochs=6)"
      ],
      "metadata": {
        "colab": {
          "base_uri": "https://localhost:8080/"
        },
        "id": "HgB7k6laJHdJ",
        "outputId": "74260b71-a51d-47d8-8567-1a38f5a09e2c"
      },
      "execution_count": null,
      "outputs": [
        {
          "output_type": "stream",
          "name": "stdout",
          "text": [
            "Epoch 0/5\n",
            "----------\n"
          ]
        },
        {
          "output_type": "stream",
          "name": "stderr",
          "text": [
            "/usr/local/lib/python3.7/dist-packages/PIL/TiffImagePlugin.py:770: UserWarning: Possibly corrupt EXIF data.  Expecting to read 32 bytes but only got 0. Skipping tag 270\n",
            "  \" Skipping tag %s\" % (size, len(data), tag)\n",
            "/usr/local/lib/python3.7/dist-packages/PIL/TiffImagePlugin.py:770: UserWarning: Possibly corrupt EXIF data.  Expecting to read 5 bytes but only got 0. Skipping tag 271\n",
            "  \" Skipping tag %s\" % (size, len(data), tag)\n",
            "/usr/local/lib/python3.7/dist-packages/PIL/TiffImagePlugin.py:770: UserWarning: Possibly corrupt EXIF data.  Expecting to read 8 bytes but only got 0. Skipping tag 272\n",
            "  \" Skipping tag %s\" % (size, len(data), tag)\n",
            "/usr/local/lib/python3.7/dist-packages/PIL/TiffImagePlugin.py:770: UserWarning: Possibly corrupt EXIF data.  Expecting to read 8 bytes but only got 0. Skipping tag 282\n",
            "  \" Skipping tag %s\" % (size, len(data), tag)\n",
            "/usr/local/lib/python3.7/dist-packages/PIL/TiffImagePlugin.py:770: UserWarning: Possibly corrupt EXIF data.  Expecting to read 8 bytes but only got 0. Skipping tag 283\n",
            "  \" Skipping tag %s\" % (size, len(data), tag)\n",
            "/usr/local/lib/python3.7/dist-packages/PIL/TiffImagePlugin.py:770: UserWarning: Possibly corrupt EXIF data.  Expecting to read 20 bytes but only got 0. Skipping tag 306\n",
            "  \" Skipping tag %s\" % (size, len(data), tag)\n",
            "/usr/local/lib/python3.7/dist-packages/PIL/TiffImagePlugin.py:770: UserWarning: Possibly corrupt EXIF data.  Expecting to read 48 bytes but only got 0. Skipping tag 532\n",
            "  \" Skipping tag %s\" % (size, len(data), tag)\n",
            "/usr/local/lib/python3.7/dist-packages/PIL/TiffImagePlugin.py:788: UserWarning: Corrupt EXIF data.  Expecting to read 2 bytes but only got 0. \n",
            "  warnings.warn(str(msg))\n"
          ]
        },
        {
          "output_type": "stream",
          "name": "stdout",
          "text": [
            "train Loss: 0.2307 Acc: 0.9018\n",
            "val Loss: 0.2233 Acc: 0.9116\n",
            "0\n",
            "\n",
            "Epoch 1/5\n",
            "----------\n"
          ]
        },
        {
          "output_type": "stream",
          "name": "stderr",
          "text": [
            "/usr/local/lib/python3.7/dist-packages/PIL/TiffImagePlugin.py:770: UserWarning: Possibly corrupt EXIF data.  Expecting to read 32 bytes but only got 0. Skipping tag 270\n",
            "  \" Skipping tag %s\" % (size, len(data), tag)\n",
            "/usr/local/lib/python3.7/dist-packages/PIL/TiffImagePlugin.py:770: UserWarning: Possibly corrupt EXIF data.  Expecting to read 5 bytes but only got 0. Skipping tag 271\n",
            "  \" Skipping tag %s\" % (size, len(data), tag)\n",
            "/usr/local/lib/python3.7/dist-packages/PIL/TiffImagePlugin.py:770: UserWarning: Possibly corrupt EXIF data.  Expecting to read 8 bytes but only got 0. Skipping tag 272\n",
            "  \" Skipping tag %s\" % (size, len(data), tag)\n",
            "/usr/local/lib/python3.7/dist-packages/PIL/TiffImagePlugin.py:770: UserWarning: Possibly corrupt EXIF data.  Expecting to read 8 bytes but only got 0. Skipping tag 282\n",
            "  \" Skipping tag %s\" % (size, len(data), tag)\n",
            "/usr/local/lib/python3.7/dist-packages/PIL/TiffImagePlugin.py:770: UserWarning: Possibly corrupt EXIF data.  Expecting to read 8 bytes but only got 0. Skipping tag 283\n",
            "  \" Skipping tag %s\" % (size, len(data), tag)\n",
            "/usr/local/lib/python3.7/dist-packages/PIL/TiffImagePlugin.py:770: UserWarning: Possibly corrupt EXIF data.  Expecting to read 20 bytes but only got 0. Skipping tag 306\n",
            "  \" Skipping tag %s\" % (size, len(data), tag)\n",
            "/usr/local/lib/python3.7/dist-packages/PIL/TiffImagePlugin.py:770: UserWarning: Possibly corrupt EXIF data.  Expecting to read 48 bytes but only got 0. Skipping tag 532\n",
            "  \" Skipping tag %s\" % (size, len(data), tag)\n",
            "/usr/local/lib/python3.7/dist-packages/PIL/TiffImagePlugin.py:788: UserWarning: Corrupt EXIF data.  Expecting to read 2 bytes but only got 0. \n",
            "  warnings.warn(str(msg))\n"
          ]
        },
        {
          "output_type": "stream",
          "name": "stdout",
          "text": [
            "train Loss: 0.1668 Acc: 0.9303\n",
            "val Loss: 0.1494 Acc: 0.9418\n",
            "1\n",
            "\n",
            "Epoch 2/5\n",
            "----------\n"
          ]
        },
        {
          "output_type": "stream",
          "name": "stderr",
          "text": [
            "/usr/local/lib/python3.7/dist-packages/PIL/TiffImagePlugin.py:770: UserWarning: Possibly corrupt EXIF data.  Expecting to read 32 bytes but only got 0. Skipping tag 270\n",
            "  \" Skipping tag %s\" % (size, len(data), tag)\n",
            "/usr/local/lib/python3.7/dist-packages/PIL/TiffImagePlugin.py:770: UserWarning: Possibly corrupt EXIF data.  Expecting to read 5 bytes but only got 0. Skipping tag 271\n",
            "  \" Skipping tag %s\" % (size, len(data), tag)\n",
            "/usr/local/lib/python3.7/dist-packages/PIL/TiffImagePlugin.py:770: UserWarning: Possibly corrupt EXIF data.  Expecting to read 8 bytes but only got 0. Skipping tag 272\n",
            "  \" Skipping tag %s\" % (size, len(data), tag)\n",
            "/usr/local/lib/python3.7/dist-packages/PIL/TiffImagePlugin.py:770: UserWarning: Possibly corrupt EXIF data.  Expecting to read 8 bytes but only got 0. Skipping tag 282\n",
            "  \" Skipping tag %s\" % (size, len(data), tag)\n",
            "/usr/local/lib/python3.7/dist-packages/PIL/TiffImagePlugin.py:770: UserWarning: Possibly corrupt EXIF data.  Expecting to read 8 bytes but only got 0. Skipping tag 283\n",
            "  \" Skipping tag %s\" % (size, len(data), tag)\n",
            "/usr/local/lib/python3.7/dist-packages/PIL/TiffImagePlugin.py:770: UserWarning: Possibly corrupt EXIF data.  Expecting to read 20 bytes but only got 0. Skipping tag 306\n",
            "  \" Skipping tag %s\" % (size, len(data), tag)\n",
            "/usr/local/lib/python3.7/dist-packages/PIL/TiffImagePlugin.py:770: UserWarning: Possibly corrupt EXIF data.  Expecting to read 48 bytes but only got 0. Skipping tag 532\n",
            "  \" Skipping tag %s\" % (size, len(data), tag)\n",
            "/usr/local/lib/python3.7/dist-packages/PIL/TiffImagePlugin.py:788: UserWarning: Corrupt EXIF data.  Expecting to read 2 bytes but only got 0. \n",
            "  warnings.warn(str(msg))\n"
          ]
        },
        {
          "output_type": "stream",
          "name": "stdout",
          "text": [
            "train Loss: 0.1402 Acc: 0.9424\n",
            "val Loss: 0.1323 Acc: 0.9491\n",
            "2\n",
            "\n",
            "Epoch 3/5\n",
            "----------\n"
          ]
        },
        {
          "output_type": "stream",
          "name": "stderr",
          "text": [
            "/usr/local/lib/python3.7/dist-packages/PIL/TiffImagePlugin.py:770: UserWarning: Possibly corrupt EXIF data.  Expecting to read 32 bytes but only got 0. Skipping tag 270\n",
            "  \" Skipping tag %s\" % (size, len(data), tag)\n",
            "/usr/local/lib/python3.7/dist-packages/PIL/TiffImagePlugin.py:770: UserWarning: Possibly corrupt EXIF data.  Expecting to read 5 bytes but only got 0. Skipping tag 271\n",
            "  \" Skipping tag %s\" % (size, len(data), tag)\n",
            "/usr/local/lib/python3.7/dist-packages/PIL/TiffImagePlugin.py:770: UserWarning: Possibly corrupt EXIF data.  Expecting to read 8 bytes but only got 0. Skipping tag 272\n",
            "  \" Skipping tag %s\" % (size, len(data), tag)\n",
            "/usr/local/lib/python3.7/dist-packages/PIL/TiffImagePlugin.py:770: UserWarning: Possibly corrupt EXIF data.  Expecting to read 8 bytes but only got 0. Skipping tag 282\n",
            "  \" Skipping tag %s\" % (size, len(data), tag)\n",
            "/usr/local/lib/python3.7/dist-packages/PIL/TiffImagePlugin.py:770: UserWarning: Possibly corrupt EXIF data.  Expecting to read 8 bytes but only got 0. Skipping tag 283\n",
            "  \" Skipping tag %s\" % (size, len(data), tag)\n",
            "/usr/local/lib/python3.7/dist-packages/PIL/TiffImagePlugin.py:770: UserWarning: Possibly corrupt EXIF data.  Expecting to read 20 bytes but only got 0. Skipping tag 306\n",
            "  \" Skipping tag %s\" % (size, len(data), tag)\n",
            "/usr/local/lib/python3.7/dist-packages/PIL/TiffImagePlugin.py:770: UserWarning: Possibly corrupt EXIF data.  Expecting to read 48 bytes but only got 0. Skipping tag 532\n",
            "  \" Skipping tag %s\" % (size, len(data), tag)\n",
            "/usr/local/lib/python3.7/dist-packages/PIL/TiffImagePlugin.py:788: UserWarning: Corrupt EXIF data.  Expecting to read 2 bytes but only got 0. \n",
            "  warnings.warn(str(msg))\n"
          ]
        },
        {
          "output_type": "stream",
          "name": "stdout",
          "text": [
            "train Loss: 0.1272 Acc: 0.9490\n",
            "val Loss: 0.1321 Acc: 0.9530\n",
            "3\n",
            "\n",
            "Epoch 4/5\n",
            "----------\n"
          ]
        },
        {
          "output_type": "stream",
          "name": "stderr",
          "text": [
            "/usr/local/lib/python3.7/dist-packages/PIL/TiffImagePlugin.py:770: UserWarning: Possibly corrupt EXIF data.  Expecting to read 32 bytes but only got 0. Skipping tag 270\n",
            "  \" Skipping tag %s\" % (size, len(data), tag)\n",
            "/usr/local/lib/python3.7/dist-packages/PIL/TiffImagePlugin.py:770: UserWarning: Possibly corrupt EXIF data.  Expecting to read 5 bytes but only got 0. Skipping tag 271\n",
            "  \" Skipping tag %s\" % (size, len(data), tag)\n",
            "/usr/local/lib/python3.7/dist-packages/PIL/TiffImagePlugin.py:770: UserWarning: Possibly corrupt EXIF data.  Expecting to read 8 bytes but only got 0. Skipping tag 272\n",
            "  \" Skipping tag %s\" % (size, len(data), tag)\n",
            "/usr/local/lib/python3.7/dist-packages/PIL/TiffImagePlugin.py:770: UserWarning: Possibly corrupt EXIF data.  Expecting to read 8 bytes but only got 0. Skipping tag 282\n",
            "  \" Skipping tag %s\" % (size, len(data), tag)\n",
            "/usr/local/lib/python3.7/dist-packages/PIL/TiffImagePlugin.py:770: UserWarning: Possibly corrupt EXIF data.  Expecting to read 8 bytes but only got 0. Skipping tag 283\n",
            "  \" Skipping tag %s\" % (size, len(data), tag)\n",
            "/usr/local/lib/python3.7/dist-packages/PIL/TiffImagePlugin.py:770: UserWarning: Possibly corrupt EXIF data.  Expecting to read 20 bytes but only got 0. Skipping tag 306\n",
            "  \" Skipping tag %s\" % (size, len(data), tag)\n",
            "/usr/local/lib/python3.7/dist-packages/PIL/TiffImagePlugin.py:770: UserWarning: Possibly corrupt EXIF data.  Expecting to read 48 bytes but only got 0. Skipping tag 532\n",
            "  \" Skipping tag %s\" % (size, len(data), tag)\n",
            "/usr/local/lib/python3.7/dist-packages/PIL/TiffImagePlugin.py:788: UserWarning: Corrupt EXIF data.  Expecting to read 2 bytes but only got 0. \n",
            "  warnings.warn(str(msg))\n"
          ]
        },
        {
          "output_type": "stream",
          "name": "stdout",
          "text": [
            "train Loss: 0.1154 Acc: 0.9538\n",
            "val Loss: 0.1680 Acc: 0.9338\n",
            "\n",
            "Epoch 5/5\n",
            "----------\n"
          ]
        },
        {
          "output_type": "stream",
          "name": "stderr",
          "text": [
            "/usr/local/lib/python3.7/dist-packages/PIL/TiffImagePlugin.py:770: UserWarning: Possibly corrupt EXIF data.  Expecting to read 32 bytes but only got 0. Skipping tag 270\n",
            "  \" Skipping tag %s\" % (size, len(data), tag)\n",
            "/usr/local/lib/python3.7/dist-packages/PIL/TiffImagePlugin.py:770: UserWarning: Possibly corrupt EXIF data.  Expecting to read 5 bytes but only got 0. Skipping tag 271\n",
            "  \" Skipping tag %s\" % (size, len(data), tag)\n",
            "/usr/local/lib/python3.7/dist-packages/PIL/TiffImagePlugin.py:770: UserWarning: Possibly corrupt EXIF data.  Expecting to read 8 bytes but only got 0. Skipping tag 272\n",
            "  \" Skipping tag %s\" % (size, len(data), tag)\n",
            "/usr/local/lib/python3.7/dist-packages/PIL/TiffImagePlugin.py:770: UserWarning: Possibly corrupt EXIF data.  Expecting to read 8 bytes but only got 0. Skipping tag 282\n",
            "  \" Skipping tag %s\" % (size, len(data), tag)\n",
            "/usr/local/lib/python3.7/dist-packages/PIL/TiffImagePlugin.py:770: UserWarning: Possibly corrupt EXIF data.  Expecting to read 8 bytes but only got 0. Skipping tag 283\n",
            "  \" Skipping tag %s\" % (size, len(data), tag)\n",
            "/usr/local/lib/python3.7/dist-packages/PIL/TiffImagePlugin.py:770: UserWarning: Possibly corrupt EXIF data.  Expecting to read 20 bytes but only got 0. Skipping tag 306\n",
            "  \" Skipping tag %s\" % (size, len(data), tag)\n",
            "/usr/local/lib/python3.7/dist-packages/PIL/TiffImagePlugin.py:770: UserWarning: Possibly corrupt EXIF data.  Expecting to read 48 bytes but only got 0. Skipping tag 532\n",
            "  \" Skipping tag %s\" % (size, len(data), tag)\n",
            "/usr/local/lib/python3.7/dist-packages/PIL/TiffImagePlugin.py:788: UserWarning: Corrupt EXIF data.  Expecting to read 2 bytes but only got 0. \n",
            "  warnings.warn(str(msg))\n"
          ]
        },
        {
          "output_type": "stream",
          "name": "stdout",
          "text": [
            "train Loss: 0.1159 Acc: 0.9531\n",
            "val Loss: 0.1081 Acc: 0.9546\n",
            "5\n",
            "\n",
            "Training complete in 45m 29s\n",
            "Best val Acc: 0.954573\n"
          ]
        }
      ]
    },
    {
      "cell_type": "markdown",
      "source": [
        "### ТЕСТИРОВАНИЕ"
      ],
      "metadata": {
        "id": "7Dy0kbzlFkNF"
      }
    },
    {
      "cell_type": "code",
      "source": [
        "plt.plot(val_loss, 'b')\n",
        "plt.plot(val_acc, 'g')\n",
        "plt.plot(train_loss, 'r')\n",
        "plt.plot(train_acc, 'y')\n",
        "plt.show"
      ],
      "metadata": {
        "colab": {
          "base_uri": "https://localhost:8080/",
          "height": 282
        },
        "id": "csG0Tb0zbDWu",
        "outputId": "aca1c927-3bf8-44e0-85ca-ff6be59ecb9f"
      },
      "execution_count": null,
      "outputs": [
        {
          "output_type": "execute_result",
          "data": {
            "text/plain": [
              "<function matplotlib.pyplot.show>"
            ]
          },
          "metadata": {},
          "execution_count": 63
        },
        {
          "output_type": "display_data",
          "data": {
            "text/plain": [
              "<Figure size 432x288 with 1 Axes>"
            ],
            "image/png": "[encoded data removed]"
          },
          "metadata": {
            "needs_background": "light"
          }
        }
      ]
    },
    {
      "cell_type": "code",
      "source": [
        "model_ft.state_dict()"
      ],
      "metadata": {
        "id": "1Yv-QNE5dmw4"
      },
      "execution_count": null,
      "outputs": []
    },
    {
      "cell_type": "code",
      "source": [
        "test_data_dir = '/content/drive/MyDrive/test'\n",
        "\n",
        "test_data_transforms = (\n",
        "        transforms.Compose([\n",
        "          # transforms.Pad(padding=50),\n",
        "          transforms.Resize([256,256]),\n",
        "          transforms.ToTensor(),\n",
        "          transforms.Normalize([0.485, 0.456, 0.406], [0.229, 0.224, 0.225])\n",
        "        ]))\n",
        "test_image_datasets = datasets.ImageFolder(test_data_dir, test_data_transforms)\n",
        "test_dataloaders = torch.utils.data.DataLoader(test_image_datasets, batch_size=110)\n"
      ],
      "metadata": {
        "id": "NGCk3D6o5UnF"
      },
      "execution_count": null,
      "outputs": []
    },
    {
      "cell_type": "code",
      "source": [
        "def visualize_model(model, num_images=6):\n",
        "    was_training = model.training\n",
        "    model.eval()\n",
        "    images_so_far = 0\n",
        "    fig = plt.figure()\n",
        "\n",
        "    with torch.no_grad():\n",
        "        for i, (inputs, labels) in enumerate(test_dataloaders):\n",
        "            inputs = inputs.to(device)\n",
        "            labels = labels.to(device)\n",
        "\n",
        "            outputs = model(inputs)\n",
        "            _, preds = torch.max(outputs, 1)\n",
        "\n",
        "            for j in range(inputs.size()[0]):\n",
        "                images_so_far += 1\n",
        "                ax = plt.subplot(num_images//2, 2, images_so_far)\n",
        "                ax.axis('off')\n",
        "                ax.set_title('predicted: {}'.format(class_names[preds[j]]))\n",
        "                plt.imshow(inputs.cpu().data[j].squeeze().permute(1,2,0))\n",
        "\n",
        "                if images_so_far == num_images:\n",
        "                    model.train(mode=was_training)\n",
        "                    return\n",
        "        model.train(mode=was_training)"
      ],
      "metadata": {
        "id": "lgWPvnVu6Sya"
      },
      "execution_count": null,
      "outputs": []
    },
    {
      "cell_type": "code",
      "source": [
        "visualize_model(model_ft)"
      ],
      "metadata": {
        "colab": {
          "base_uri": "https://localhost:8080/",
          "height": 368
        },
        "id": "Baujs3RC7eSt",
        "outputId": "7017632f-d4c6-4a96-e3a3-8806e11fdda8"
      },
      "execution_count": null,
      "outputs": [
        {
          "output_type": "stream",
          "name": "stderr",
          "text": [
            "Clipping input data to the valid range for imshow with RGB data ([0..1] for floats or [0..255] for integers).\n",
            "Clipping input data to the valid range for imshow with RGB data ([0..1] for floats or [0..255] for integers).\n",
            "Clipping input data to the valid range for imshow with RGB data ([0..1] for floats or [0..255] for integers).\n",
            "Clipping input data to the valid range for imshow with RGB data ([0..1] for floats or [0..255] for integers).\n",
            "Clipping input data to the valid range for imshow with RGB data ([0..1] for floats or [0..255] for integers).\n",
            "Clipping input data to the valid range for imshow with RGB data ([0..1] for floats or [0..255] for integers).\n"
          ]
        },
        {
          "output_type": "display_data",
          "data": {
            "text/plain": [
              "<Figure size 432x288 with 6 Axes>"
            ],
            "image/png": "[encoded data removed]"
          },
          "metadata": {
            "needs_background": "light"
          }
        }
      ]
    },
    {
      "cell_type": "code",
      "source": [
        "device = torch.device(\"cuda:0\" if torch.cuda.is_available() else \"cpu\")"
      ],
      "metadata": {
        "id": "EvblVCkG-gxo"
      },
      "execution_count": null,
      "outputs": []
    },
    {
      "cell_type": "code",
      "source": [
        "preds = []\n",
        "labels_test = []\n",
        "for (inputs, labels) in (test_dataloaders):\n",
        "  inputs = inputs.to(device)\n",
        "  labels = labels.to(device)\n",
        "\n",
        "  outputs = model_ft(inputs)\n",
        "  _, pred = torch.max(outputs, 1)\n",
        "\n",
        "  preds.append(pred)\n",
        "  labels_test.append(labels)\n"
      ],
      "metadata": {
        "id": "3qq3yG5DARWz"
      },
      "execution_count": null,
      "outputs": []
    },
    {
      "cell_type": "code",
      "source": [
        "preds"
      ],
      "metadata": {
        "colab": {
          "base_uri": "https://localhost:8080/"
        },
        "id": "0RkQFW-4-1CZ",
        "outputId": "72a642f5-a428-47d2-eda5-72a37cb3c3f9"
      },
      "execution_count": null,
      "outputs": [
        {
          "output_type": "execute_result",
          "data": {
            "text/plain": [
              "[tensor([0, 0, 0, 0, 0, 0, 0, 0, 0, 0, 0, 0, 0, 0, 0, 0, 0, 0, 0, 0, 0, 0, 0, 0,\n",
              "         0, 0, 0, 0, 0, 0, 0, 0, 0, 0, 0, 0, 0, 0, 0, 0, 0, 0, 0, 0, 0, 0, 0, 0,\n",
              "         0, 0, 0, 0, 0, 0, 0, 0, 0, 0, 0, 0, 0, 0, 0, 0, 0, 0, 0, 0, 0, 0, 0, 0,\n",
              "         0, 0, 0, 0, 0, 0, 0, 0, 0, 0, 0, 0, 0, 0, 0, 0, 0, 0, 0, 0, 0, 0, 0, 0,\n",
              "         0, 0, 0, 0, 0, 0, 0, 0, 0, 0, 0, 0, 0, 0]),\n",
              " tensor([1, 1, 1, 1, 1, 1, 1, 1, 1, 1, 1, 1, 1, 1, 1, 1, 1, 1, 1, 1, 1, 1, 1, 1,\n",
              "         1, 1, 1, 1, 1, 1, 1, 1, 1, 1, 1, 1, 1, 1, 1, 1, 1, 1, 1, 1, 1, 1, 1, 1,\n",
              "         1, 1, 1, 1, 0, 1, 1, 1, 1, 1, 1, 1, 1, 1, 1, 1, 1, 1, 1, 1, 1, 1, 1, 1,\n",
              "         1, 1, 1, 1, 1, 1, 1, 1, 1, 1, 1, 0, 1, 0, 1, 1, 1, 1, 1, 1, 1, 1, 1, 1,\n",
              "         1, 1, 1, 1, 1, 1, 1, 1, 1, 1, 1, 1, 1, 1])]"
            ]
          },
          "metadata": {},
          "execution_count": 10
        }
      ]
    },
    {
      "cell_type": "code",
      "source": [
        "preds_np_cats = preds[0].cpu().numpy()\n",
        "preds_np_dogs = preds[1].cpu().numpy()\n",
        "\n",
        "labels_test_cats = labels_test[0].cpu().numpy()\n",
        "labels_test_dogs = labels_test[1].cpu().numpy()"
      ],
      "metadata": {
        "id": "cf945ziiDMdd"
      },
      "execution_count": null,
      "outputs": []
    },
    {
      "cell_type": "code",
      "source": [
        "answers_cats = (preds_np_cats == labels_test_cats) + 0\n",
        "answers_dogs = (preds_np_dogs == labels_test_dogs) + 0"
      ],
      "metadata": {
        "id": "RF_239CzEA6m"
      },
      "execution_count": null,
      "outputs": []
    },
    {
      "cell_type": "code",
      "source": [
        "tp = np.sum(answers_cats == 1)\n",
        "fp = np.sum(answers_cats == 0)\n",
        "tn = np.sum(answers_dogs == 1)\n",
        "fn = np.sum(answers_dogs == 0)\n",
        "print(tp, fp, tn, fn)"
      ],
      "metadata": {
        "colab": {
          "base_uri": "https://localhost:8080/"
        },
        "id": "RFBt1oPFFphY",
        "outputId": "c6e36911-97fb-461b-b1aa-d1f12d9e5bf1"
      },
      "execution_count": null,
      "outputs": [
        {
          "output_type": "stream",
          "name": "stdout",
          "text": [
            "109 1 107 3\n"
          ]
        }
      ]
    },
    {
      "cell_type": "code",
      "source": [
        "f1_score(tp, fp, tn, fn)"
      ],
      "metadata": {
        "colab": {
          "base_uri": "https://localhost:8080/"
        },
        "id": "EVj-ONaKGzH_",
        "outputId": "beaa6f37-9d7c-4a3a-9372-36c7c23779bf"
      },
      "execution_count": null,
      "outputs": [
        {
          "output_type": "stream",
          "name": "stdout",
          "text": [
            "accuracy = 0.9818181818181818\n",
            "precision = 0.990909090909091\n",
            "recall = 0.9732142857142857\n",
            "f1_score = 0.9819819819819819\n"
          ]
        }
      ]
    },
    {
      "cell_type": "markdown",
      "source": [
        "### СОХРАНЕНИЕ"
      ],
      "metadata": {
        "id": "RlH1RUzmFfRD"
      }
    },
    {
      "cell_type": "code",
      "source": [
        "# torch.save(model_ft, '/content/drive/MyDrive/igor_romaykin.pt')\n",
        "# model_ft = torch.load('/content/drive/MyDrive/igor_romaykin.pt', map_location=device)"
      ],
      "metadata": {
        "id": "m-bbgukiEomE"
      },
      "execution_count": null,
      "outputs": []
    }
  ]
}